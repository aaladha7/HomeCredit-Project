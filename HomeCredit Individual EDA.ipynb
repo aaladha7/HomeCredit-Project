{
 "cells": [
  {
   "cell_type": "markdown",
   "id": "0c9adbc3-df27-445e-994b-50da6f34405e",
   "metadata": {},
   "source": [
    "# Home Credit Default Risk - Kaggle Project EDA"
   ]
  },
  {
   "cell_type": "markdown",
   "id": "61a2190e-4556-4357-ad0e-cc362c8a5027",
   "metadata": {},
   "source": [
    "### By: Ali Ladha\n"
   ]
  },
  {
   "cell_type": "markdown",
   "id": "2e997412-ddf5-465f-9a81-4b9a3a7d6d71",
   "metadata": {},
   "source": [
    "# Table of Contents:"
   ]
  },
  {
   "cell_type": "markdown",
   "id": "c545251e-bf1a-4c2f-ae86-ad665dd9fe62",
   "metadata": {},
   "source": [
    "1. [Introduction and Purpose](#Introduction-and-Purpose)\n",
    "   - [Objectives](#Objectives)\n",
    "   - [Questions](#Questions)\n",
    "   - [Goal](#Goal)\n",
    "   - [Importing Packages](#Importing-Packages)\n",
    "   - [Loading Data](#Loading-Data)\n",
    "2. [Data Description: Exploring Target Variable](#Exploring-Target-Variable)\n",
    "3. [Checking Missing Values for Train](#Checking-Missing-Values-for-Train)\n",
    "   - [Checking Missing Values for Test](#Checking-Missing-Values-for-Test)\n",
    "5. [Data Cleaning](#Data-Cleaning)\n",
    "   - [Dropping large missing data and Categoricals missing Any Data](#Dropping-large-missing-data-and-Categoricals-missing-Any-Data)\n",
    "   - [Imputing remainder missing data](#Imputing-remainder-missing-data)\n",
    "   - [Adjusting both Train and Test dataset](#Adjusting-both-Train-and-Test-dataset)\n",
    "   - [Imputing Outliers](#Imputing-Outliers)\n",
    "6. [Correlation Table](#Correlation-Table)\n",
    "   - [Correlation Heatmap](#Correlation-Heatmap)\n",
    "9. [Preliminary Logistic Model](#Preliminary-Logistic-Model)\n",
    "10. [Summary and Overall Insights with Ethical Considerations](#Summary-and-Overall-Insights-with-Ethical-Considerations)\n"
   ]
  },
  {
   "cell_type": "markdown",
   "id": "2ac45ba6-8663-4421-8df7-081d77801f06",
   "metadata": {},
   "source": [
    "# Introduction and Purpose"
   ]
  },
  {
   "cell_type": "markdown",
   "id": "ac121cff-a67f-4bdf-ae76-10b4b21e5085",
   "metadata": {},
   "source": [
    "The overall goal of this project is to look at telco and financial data to predict whether a client will default on a loan.  \n",
    "The project aims to benefit Home Credit in determining prospective clients based on collected data.\n",
    "\n",
    "This specific project is more towards exploring the data that we have available to see if we can gather insights. \n",
    "\n",
    "## **Objectives**\n",
    "1. Understand the target variable (TARGET):\n",
    "2. Identify important predictors using statistics and visualizations.\n",
    "3. Create and train a Logistic Regression model\n",
    "4. Check the score of the model by using: accuracy, confusion matrix, and a ROC/AUC score.\n",
    "\n",
    "## **Questions**\n",
    "1. What are the Top Positive predictors for Default\n",
    "2. What are the Top Negative predictors for Default\n",
    "3. What are the business and ethical implications of selecting clients with only these predictors\n",
    "\n",
    "## **Goal**\n",
    "1. Reducing the likelihood of default: by identifying the main predictors that are positively and negatively correlated with it"
   ]
  },
  {
   "cell_type": "markdown",
   "id": "c2d0c703-885b-447d-9cda-0ba6826f0361",
   "metadata": {},
   "source": [
    "## Importing Packages"
   ]
  },
  {
   "cell_type": "code",
   "execution_count": 8,
   "id": "867c0588-1b5b-4b58-9dc7-587423ef81d6",
   "metadata": {},
   "outputs": [],
   "source": [
    "\n",
    "#Importing Packages\n",
    "import pandas as pd\n",
    "import numpy as np\n",
    "import matplotlib.pyplot as plt\n",
    "import seaborn as sns\n",
    "from sklearn.model_selection import train_test_split\n",
    "from sklearn.linear_model import LogisticRegression\n",
    "from sklearn.metrics import accuracy_score, confusion_matrix, roc_auc_score, classification_report\n",
    "from sklearn.preprocessing import StandardScaler\n"
   ]
  },
  {
   "cell_type": "code",
   "execution_count": null,
   "id": "cf62e95e-cf4b-4a45-bb04-2cabc30192d1",
   "metadata": {},
   "outputs": [],
   "source": []
  },
  {
   "cell_type": "code",
   "execution_count": null,
   "id": "6257f884-21d1-418e-aa55-2fefc474166e",
   "metadata": {},
   "outputs": [],
   "source": []
  },
  {
   "cell_type": "markdown",
   "id": "bd83c959-afa1-498a-b189-a631abe8266d",
   "metadata": {},
   "source": [
    "## Loading Data"
   ]
  },
  {
   "cell_type": "code",
   "execution_count": 10,
   "id": "d66150de-2d87-4345-b409-95535a65e785",
   "metadata": {},
   "outputs": [],
   "source": [
    "app_train = pd.read_csv('application_train.csv')\n",
    "bureau = pd.read_csv('bureau.csv')\n",
    "\n",
    "app_test = pd.read_csv('application_test.csv')"
   ]
  },
  {
   "cell_type": "code",
   "execution_count": 11,
   "id": "af8b6fff-4a15-4f48-999e-651744178634",
   "metadata": {},
   "outputs": [
    {
     "data": {
      "text/html": [
       "<div>\n",
       "<style scoped>\n",
       "    .dataframe tbody tr th:only-of-type {\n",
       "        vertical-align: middle;\n",
       "    }\n",
       "\n",
       "    .dataframe tbody tr th {\n",
       "        vertical-align: top;\n",
       "    }\n",
       "\n",
       "    .dataframe thead th {\n",
       "        text-align: right;\n",
       "    }\n",
       "</style>\n",
       "<table border=\"1\" class=\"dataframe\">\n",
       "  <thead>\n",
       "    <tr style=\"text-align: right;\">\n",
       "      <th></th>\n",
       "      <th>SK_ID_CURR</th>\n",
       "      <th>TARGET</th>\n",
       "      <th>NAME_CONTRACT_TYPE</th>\n",
       "      <th>CODE_GENDER</th>\n",
       "      <th>FLAG_OWN_CAR</th>\n",
       "      <th>FLAG_OWN_REALTY</th>\n",
       "      <th>CNT_CHILDREN</th>\n",
       "      <th>AMT_INCOME_TOTAL</th>\n",
       "      <th>AMT_CREDIT</th>\n",
       "      <th>AMT_ANNUITY</th>\n",
       "      <th>...</th>\n",
       "      <th>FLAG_DOCUMENT_18</th>\n",
       "      <th>FLAG_DOCUMENT_19</th>\n",
       "      <th>FLAG_DOCUMENT_20</th>\n",
       "      <th>FLAG_DOCUMENT_21</th>\n",
       "      <th>AMT_REQ_CREDIT_BUREAU_HOUR</th>\n",
       "      <th>AMT_REQ_CREDIT_BUREAU_DAY</th>\n",
       "      <th>AMT_REQ_CREDIT_BUREAU_WEEK</th>\n",
       "      <th>AMT_REQ_CREDIT_BUREAU_MON</th>\n",
       "      <th>AMT_REQ_CREDIT_BUREAU_QRT</th>\n",
       "      <th>AMT_REQ_CREDIT_BUREAU_YEAR</th>\n",
       "    </tr>\n",
       "  </thead>\n",
       "  <tbody>\n",
       "    <tr>\n",
       "      <th>0</th>\n",
       "      <td>100002</td>\n",
       "      <td>1</td>\n",
       "      <td>Cash loans</td>\n",
       "      <td>M</td>\n",
       "      <td>N</td>\n",
       "      <td>Y</td>\n",
       "      <td>0</td>\n",
       "      <td>202500.0</td>\n",
       "      <td>406597.5</td>\n",
       "      <td>24700.5</td>\n",
       "      <td>...</td>\n",
       "      <td>0</td>\n",
       "      <td>0</td>\n",
       "      <td>0</td>\n",
       "      <td>0</td>\n",
       "      <td>0.0</td>\n",
       "      <td>0.0</td>\n",
       "      <td>0.0</td>\n",
       "      <td>0.0</td>\n",
       "      <td>0.0</td>\n",
       "      <td>1.0</td>\n",
       "    </tr>\n",
       "    <tr>\n",
       "      <th>1</th>\n",
       "      <td>100003</td>\n",
       "      <td>0</td>\n",
       "      <td>Cash loans</td>\n",
       "      <td>F</td>\n",
       "      <td>N</td>\n",
       "      <td>N</td>\n",
       "      <td>0</td>\n",
       "      <td>270000.0</td>\n",
       "      <td>1293502.5</td>\n",
       "      <td>35698.5</td>\n",
       "      <td>...</td>\n",
       "      <td>0</td>\n",
       "      <td>0</td>\n",
       "      <td>0</td>\n",
       "      <td>0</td>\n",
       "      <td>0.0</td>\n",
       "      <td>0.0</td>\n",
       "      <td>0.0</td>\n",
       "      <td>0.0</td>\n",
       "      <td>0.0</td>\n",
       "      <td>0.0</td>\n",
       "    </tr>\n",
       "    <tr>\n",
       "      <th>2</th>\n",
       "      <td>100004</td>\n",
       "      <td>0</td>\n",
       "      <td>Revolving loans</td>\n",
       "      <td>M</td>\n",
       "      <td>Y</td>\n",
       "      <td>Y</td>\n",
       "      <td>0</td>\n",
       "      <td>67500.0</td>\n",
       "      <td>135000.0</td>\n",
       "      <td>6750.0</td>\n",
       "      <td>...</td>\n",
       "      <td>0</td>\n",
       "      <td>0</td>\n",
       "      <td>0</td>\n",
       "      <td>0</td>\n",
       "      <td>0.0</td>\n",
       "      <td>0.0</td>\n",
       "      <td>0.0</td>\n",
       "      <td>0.0</td>\n",
       "      <td>0.0</td>\n",
       "      <td>0.0</td>\n",
       "    </tr>\n",
       "    <tr>\n",
       "      <th>3</th>\n",
       "      <td>100006</td>\n",
       "      <td>0</td>\n",
       "      <td>Cash loans</td>\n",
       "      <td>F</td>\n",
       "      <td>N</td>\n",
       "      <td>Y</td>\n",
       "      <td>0</td>\n",
       "      <td>135000.0</td>\n",
       "      <td>312682.5</td>\n",
       "      <td>29686.5</td>\n",
       "      <td>...</td>\n",
       "      <td>0</td>\n",
       "      <td>0</td>\n",
       "      <td>0</td>\n",
       "      <td>0</td>\n",
       "      <td>NaN</td>\n",
       "      <td>NaN</td>\n",
       "      <td>NaN</td>\n",
       "      <td>NaN</td>\n",
       "      <td>NaN</td>\n",
       "      <td>NaN</td>\n",
       "    </tr>\n",
       "    <tr>\n",
       "      <th>4</th>\n",
       "      <td>100007</td>\n",
       "      <td>0</td>\n",
       "      <td>Cash loans</td>\n",
       "      <td>M</td>\n",
       "      <td>N</td>\n",
       "      <td>Y</td>\n",
       "      <td>0</td>\n",
       "      <td>121500.0</td>\n",
       "      <td>513000.0</td>\n",
       "      <td>21865.5</td>\n",
       "      <td>...</td>\n",
       "      <td>0</td>\n",
       "      <td>0</td>\n",
       "      <td>0</td>\n",
       "      <td>0</td>\n",
       "      <td>0.0</td>\n",
       "      <td>0.0</td>\n",
       "      <td>0.0</td>\n",
       "      <td>0.0</td>\n",
       "      <td>0.0</td>\n",
       "      <td>0.0</td>\n",
       "    </tr>\n",
       "  </tbody>\n",
       "</table>\n",
       "<p>5 rows × 122 columns</p>\n",
       "</div>"
      ],
      "text/plain": [
       "   SK_ID_CURR  TARGET NAME_CONTRACT_TYPE CODE_GENDER FLAG_OWN_CAR  \\\n",
       "0      100002       1         Cash loans           M            N   \n",
       "1      100003       0         Cash loans           F            N   \n",
       "2      100004       0    Revolving loans           M            Y   \n",
       "3      100006       0         Cash loans           F            N   \n",
       "4      100007       0         Cash loans           M            N   \n",
       "\n",
       "  FLAG_OWN_REALTY  CNT_CHILDREN  AMT_INCOME_TOTAL  AMT_CREDIT  AMT_ANNUITY  \\\n",
       "0               Y             0          202500.0    406597.5      24700.5   \n",
       "1               N             0          270000.0   1293502.5      35698.5   \n",
       "2               Y             0           67500.0    135000.0       6750.0   \n",
       "3               Y             0          135000.0    312682.5      29686.5   \n",
       "4               Y             0          121500.0    513000.0      21865.5   \n",
       "\n",
       "   ...  FLAG_DOCUMENT_18 FLAG_DOCUMENT_19 FLAG_DOCUMENT_20 FLAG_DOCUMENT_21  \\\n",
       "0  ...                 0                0                0                0   \n",
       "1  ...                 0                0                0                0   \n",
       "2  ...                 0                0                0                0   \n",
       "3  ...                 0                0                0                0   \n",
       "4  ...                 0                0                0                0   \n",
       "\n",
       "  AMT_REQ_CREDIT_BUREAU_HOUR AMT_REQ_CREDIT_BUREAU_DAY  \\\n",
       "0                        0.0                       0.0   \n",
       "1                        0.0                       0.0   \n",
       "2                        0.0                       0.0   \n",
       "3                        NaN                       NaN   \n",
       "4                        0.0                       0.0   \n",
       "\n",
       "   AMT_REQ_CREDIT_BUREAU_WEEK  AMT_REQ_CREDIT_BUREAU_MON  \\\n",
       "0                         0.0                        0.0   \n",
       "1                         0.0                        0.0   \n",
       "2                         0.0                        0.0   \n",
       "3                         NaN                        NaN   \n",
       "4                         0.0                        0.0   \n",
       "\n",
       "   AMT_REQ_CREDIT_BUREAU_QRT  AMT_REQ_CREDIT_BUREAU_YEAR  \n",
       "0                        0.0                         1.0  \n",
       "1                        0.0                         0.0  \n",
       "2                        0.0                         0.0  \n",
       "3                        NaN                         NaN  \n",
       "4                        0.0                         0.0  \n",
       "\n",
       "[5 rows x 122 columns]"
      ]
     },
     "execution_count": 11,
     "metadata": {},
     "output_type": "execute_result"
    }
   ],
   "source": [
    "app_train.head()"
   ]
  },
  {
   "cell_type": "code",
   "execution_count": 12,
   "id": "e71e2b93-7bce-4adc-bf54-e0649b1a2a0a",
   "metadata": {},
   "outputs": [
    {
     "data": {
      "text/html": [
       "<div>\n",
       "<style scoped>\n",
       "    .dataframe tbody tr th:only-of-type {\n",
       "        vertical-align: middle;\n",
       "    }\n",
       "\n",
       "    .dataframe tbody tr th {\n",
       "        vertical-align: top;\n",
       "    }\n",
       "\n",
       "    .dataframe thead th {\n",
       "        text-align: right;\n",
       "    }\n",
       "</style>\n",
       "<table border=\"1\" class=\"dataframe\">\n",
       "  <thead>\n",
       "    <tr style=\"text-align: right;\">\n",
       "      <th></th>\n",
       "      <th>SK_ID_CURR</th>\n",
       "      <th>NAME_CONTRACT_TYPE</th>\n",
       "      <th>CODE_GENDER</th>\n",
       "      <th>FLAG_OWN_CAR</th>\n",
       "      <th>FLAG_OWN_REALTY</th>\n",
       "      <th>CNT_CHILDREN</th>\n",
       "      <th>AMT_INCOME_TOTAL</th>\n",
       "      <th>AMT_CREDIT</th>\n",
       "      <th>AMT_ANNUITY</th>\n",
       "      <th>AMT_GOODS_PRICE</th>\n",
       "      <th>...</th>\n",
       "      <th>FLAG_DOCUMENT_18</th>\n",
       "      <th>FLAG_DOCUMENT_19</th>\n",
       "      <th>FLAG_DOCUMENT_20</th>\n",
       "      <th>FLAG_DOCUMENT_21</th>\n",
       "      <th>AMT_REQ_CREDIT_BUREAU_HOUR</th>\n",
       "      <th>AMT_REQ_CREDIT_BUREAU_DAY</th>\n",
       "      <th>AMT_REQ_CREDIT_BUREAU_WEEK</th>\n",
       "      <th>AMT_REQ_CREDIT_BUREAU_MON</th>\n",
       "      <th>AMT_REQ_CREDIT_BUREAU_QRT</th>\n",
       "      <th>AMT_REQ_CREDIT_BUREAU_YEAR</th>\n",
       "    </tr>\n",
       "  </thead>\n",
       "  <tbody>\n",
       "    <tr>\n",
       "      <th>0</th>\n",
       "      <td>100001</td>\n",
       "      <td>Cash loans</td>\n",
       "      <td>F</td>\n",
       "      <td>N</td>\n",
       "      <td>Y</td>\n",
       "      <td>0</td>\n",
       "      <td>135000.0</td>\n",
       "      <td>568800.0</td>\n",
       "      <td>20560.5</td>\n",
       "      <td>450000.0</td>\n",
       "      <td>...</td>\n",
       "      <td>0</td>\n",
       "      <td>0</td>\n",
       "      <td>0</td>\n",
       "      <td>0</td>\n",
       "      <td>0.0</td>\n",
       "      <td>0.0</td>\n",
       "      <td>0.0</td>\n",
       "      <td>0.0</td>\n",
       "      <td>0.0</td>\n",
       "      <td>0.0</td>\n",
       "    </tr>\n",
       "    <tr>\n",
       "      <th>1</th>\n",
       "      <td>100005</td>\n",
       "      <td>Cash loans</td>\n",
       "      <td>M</td>\n",
       "      <td>N</td>\n",
       "      <td>Y</td>\n",
       "      <td>0</td>\n",
       "      <td>99000.0</td>\n",
       "      <td>222768.0</td>\n",
       "      <td>17370.0</td>\n",
       "      <td>180000.0</td>\n",
       "      <td>...</td>\n",
       "      <td>0</td>\n",
       "      <td>0</td>\n",
       "      <td>0</td>\n",
       "      <td>0</td>\n",
       "      <td>0.0</td>\n",
       "      <td>0.0</td>\n",
       "      <td>0.0</td>\n",
       "      <td>0.0</td>\n",
       "      <td>0.0</td>\n",
       "      <td>3.0</td>\n",
       "    </tr>\n",
       "    <tr>\n",
       "      <th>2</th>\n",
       "      <td>100013</td>\n",
       "      <td>Cash loans</td>\n",
       "      <td>M</td>\n",
       "      <td>Y</td>\n",
       "      <td>Y</td>\n",
       "      <td>0</td>\n",
       "      <td>202500.0</td>\n",
       "      <td>663264.0</td>\n",
       "      <td>69777.0</td>\n",
       "      <td>630000.0</td>\n",
       "      <td>...</td>\n",
       "      <td>0</td>\n",
       "      <td>0</td>\n",
       "      <td>0</td>\n",
       "      <td>0</td>\n",
       "      <td>0.0</td>\n",
       "      <td>0.0</td>\n",
       "      <td>0.0</td>\n",
       "      <td>0.0</td>\n",
       "      <td>1.0</td>\n",
       "      <td>4.0</td>\n",
       "    </tr>\n",
       "    <tr>\n",
       "      <th>3</th>\n",
       "      <td>100028</td>\n",
       "      <td>Cash loans</td>\n",
       "      <td>F</td>\n",
       "      <td>N</td>\n",
       "      <td>Y</td>\n",
       "      <td>2</td>\n",
       "      <td>315000.0</td>\n",
       "      <td>1575000.0</td>\n",
       "      <td>49018.5</td>\n",
       "      <td>1575000.0</td>\n",
       "      <td>...</td>\n",
       "      <td>0</td>\n",
       "      <td>0</td>\n",
       "      <td>0</td>\n",
       "      <td>0</td>\n",
       "      <td>0.0</td>\n",
       "      <td>0.0</td>\n",
       "      <td>0.0</td>\n",
       "      <td>0.0</td>\n",
       "      <td>0.0</td>\n",
       "      <td>3.0</td>\n",
       "    </tr>\n",
       "    <tr>\n",
       "      <th>4</th>\n",
       "      <td>100038</td>\n",
       "      <td>Cash loans</td>\n",
       "      <td>M</td>\n",
       "      <td>Y</td>\n",
       "      <td>N</td>\n",
       "      <td>1</td>\n",
       "      <td>180000.0</td>\n",
       "      <td>625500.0</td>\n",
       "      <td>32067.0</td>\n",
       "      <td>625500.0</td>\n",
       "      <td>...</td>\n",
       "      <td>0</td>\n",
       "      <td>0</td>\n",
       "      <td>0</td>\n",
       "      <td>0</td>\n",
       "      <td>NaN</td>\n",
       "      <td>NaN</td>\n",
       "      <td>NaN</td>\n",
       "      <td>NaN</td>\n",
       "      <td>NaN</td>\n",
       "      <td>NaN</td>\n",
       "    </tr>\n",
       "  </tbody>\n",
       "</table>\n",
       "<p>5 rows × 121 columns</p>\n",
       "</div>"
      ],
      "text/plain": [
       "   SK_ID_CURR NAME_CONTRACT_TYPE CODE_GENDER FLAG_OWN_CAR FLAG_OWN_REALTY  \\\n",
       "0      100001         Cash loans           F            N               Y   \n",
       "1      100005         Cash loans           M            N               Y   \n",
       "2      100013         Cash loans           M            Y               Y   \n",
       "3      100028         Cash loans           F            N               Y   \n",
       "4      100038         Cash loans           M            Y               N   \n",
       "\n",
       "   CNT_CHILDREN  AMT_INCOME_TOTAL  AMT_CREDIT  AMT_ANNUITY  AMT_GOODS_PRICE  \\\n",
       "0             0          135000.0    568800.0      20560.5         450000.0   \n",
       "1             0           99000.0    222768.0      17370.0         180000.0   \n",
       "2             0          202500.0    663264.0      69777.0         630000.0   \n",
       "3             2          315000.0   1575000.0      49018.5        1575000.0   \n",
       "4             1          180000.0    625500.0      32067.0         625500.0   \n",
       "\n",
       "   ... FLAG_DOCUMENT_18 FLAG_DOCUMENT_19 FLAG_DOCUMENT_20 FLAG_DOCUMENT_21  \\\n",
       "0  ...                0                0                0                0   \n",
       "1  ...                0                0                0                0   \n",
       "2  ...                0                0                0                0   \n",
       "3  ...                0                0                0                0   \n",
       "4  ...                0                0                0                0   \n",
       "\n",
       "  AMT_REQ_CREDIT_BUREAU_HOUR  AMT_REQ_CREDIT_BUREAU_DAY  \\\n",
       "0                        0.0                        0.0   \n",
       "1                        0.0                        0.0   \n",
       "2                        0.0                        0.0   \n",
       "3                        0.0                        0.0   \n",
       "4                        NaN                        NaN   \n",
       "\n",
       "   AMT_REQ_CREDIT_BUREAU_WEEK  AMT_REQ_CREDIT_BUREAU_MON  \\\n",
       "0                         0.0                        0.0   \n",
       "1                         0.0                        0.0   \n",
       "2                         0.0                        0.0   \n",
       "3                         0.0                        0.0   \n",
       "4                         NaN                        NaN   \n",
       "\n",
       "   AMT_REQ_CREDIT_BUREAU_QRT  AMT_REQ_CREDIT_BUREAU_YEAR  \n",
       "0                        0.0                         0.0  \n",
       "1                        0.0                         3.0  \n",
       "2                        1.0                         4.0  \n",
       "3                        0.0                         3.0  \n",
       "4                        NaN                         NaN  \n",
       "\n",
       "[5 rows x 121 columns]"
      ]
     },
     "execution_count": 12,
     "metadata": {},
     "output_type": "execute_result"
    }
   ],
   "source": [
    "app_test.head()"
   ]
  },
  {
   "cell_type": "code",
   "execution_count": 13,
   "id": "c52a9b5b-b250-4cbc-918f-dea53e55651c",
   "metadata": {},
   "outputs": [
    {
     "name": "stdout",
     "output_type": "stream",
     "text": [
      "(307511, 122)\n"
     ]
    }
   ],
   "source": [
    "print(app_train.shape)"
   ]
  },
  {
   "cell_type": "code",
   "execution_count": 14,
   "id": "0d5b4c3b-9f00-4ee7-98c2-779852adf4a2",
   "metadata": {},
   "outputs": [
    {
     "name": "stdout",
     "output_type": "stream",
     "text": [
      "(48744, 121)\n"
     ]
    }
   ],
   "source": [
    "print(app_test.shape)"
   ]
  },
  {
   "cell_type": "code",
   "execution_count": null,
   "id": "2f468bbf-6617-4a7c-a301-9c4f69fa371b",
   "metadata": {},
   "outputs": [],
   "source": []
  },
  {
   "cell_type": "code",
   "execution_count": null,
   "id": "86d1fbce-2af5-4459-a51a-d30d6f6f5623",
   "metadata": {},
   "outputs": [],
   "source": []
  },
  {
   "cell_type": "markdown",
   "id": "76ac96ba-3b3c-446a-8a85-daea89c607bd",
   "metadata": {},
   "source": [
    "# Exploring Target Variable\n",
    "\n"
   ]
  },
  {
   "cell_type": "code",
   "execution_count": 16,
   "id": "cba7ede4-f253-4e40-83e6-f9cbe878673c",
   "metadata": {},
   "outputs": [
    {
     "data": {
      "image/png": "[encoded data removed]",
      "text/plain": [
       "<Figure size 640x480 with 1 Axes>"
      ]
     },
     "metadata": {},
     "output_type": "display_data"
    }
   ],
   "source": [
    "sns.countplot(x = app_train['TARGET'])\n",
    "plt.title('Distribution of the Target Variable')\n",
    "plt.xlabel('Non Default = [0], Default = [1]')\n",
    "plt.show()"
   ]
  },
  {
   "cell_type": "code",
   "execution_count": 17,
   "id": "ab04f12a-7217-4369-856d-e3558413f636",
   "metadata": {},
   "outputs": [],
   "source": [
    "# Obtaining Target variable proportion"
   ]
  },
  {
   "cell_type": "code",
   "execution_count": 18,
   "id": "a8990ace-d335-488f-903b-9e7ab7b4103d",
   "metadata": {},
   "outputs": [
    {
     "name": "stdout",
     "output_type": "stream",
     "text": [
      "TARGET\n",
      "0    0.92\n",
      "1    0.08\n",
      "Name: proportion, dtype: float64\n",
      "The proportion of Non Defaulters [0] is 0.92\n",
      "The proportion of Defaulters [1] is 0.08 \n"
     ]
    }
   ],
   "source": [
    "target_prop = round(app_train.value_counts(subset='TARGET', normalize=True),2)\n",
    "print(target_prop)\n",
    "\n",
    "print(f'The proportion of Non Defaulters [0] is {target_prop[0]}')\n",
    "print(f'The proportion of Defaulters [1] is {target_prop[1]} ')\n"
   ]
  },
  {
   "cell_type": "code",
   "execution_count": null,
   "id": "38441492-6e10-4abf-b4fe-c0d58a2cf8de",
   "metadata": {},
   "outputs": [],
   "source": []
  },
  {
   "cell_type": "code",
   "execution_count": null,
   "id": "dd58fa34-250f-4d7b-aeee-c8701c30de13",
   "metadata": {},
   "outputs": [],
   "source": []
  },
  {
   "cell_type": "markdown",
   "id": "f8cfa9e5-6dfc-4c9d-b3a6-f5b60dd9eb41",
   "metadata": {},
   "source": [
    "Data Description:\n",
    "\n",
    "\n",
    "It appears we have a higher proportion of clients not having payment difficulties on loans compared to clients that have payment difficulties.\n",
    "The above countplot illustrates this with a proportion of 92% for non default compared to 8% for default.\n",
    "\n",
    "Additionally we have roughly 300,000 rows of data on the Train set with 122 columns\n",
    "Whereas we have 48,000 rows of data on the Test set with 121 columns (as it excludes the Target variable)"
   ]
  },
  {
   "cell_type": "markdown",
   "id": "9c6f733e-dd91-4609-9584-50c2f85585b6",
   "metadata": {},
   "source": [
    "# Checking Missing Values for Train"
   ]
  },
  {
   "cell_type": "code",
   "execution_count": 21,
   "id": "230ba344-693d-4fe4-ac1e-10d4edd3b601",
   "metadata": {},
   "outputs": [],
   "source": [
    "# Calculating missing values"
   ]
  },
  {
   "cell_type": "code",
   "execution_count": 22,
   "id": "c7ceb225-f0a4-4fdd-9fc1-9cdbfdf3aca8",
   "metadata": {},
   "outputs": [
    {
     "name": "stdout",
     "output_type": "stream",
     "text": [
      "Showing first 10 missing data columns: \n",
      " \n",
      " \n",
      "COMMONAREA_MEDI             69.872297\n",
      "COMMONAREA_AVG              69.872297\n",
      "COMMONAREA_MODE             69.872297\n",
      "NONLIVINGAPARTMENTS_MODE    69.432963\n",
      "NONLIVINGAPARTMENTS_AVG     69.432963\n",
      "NONLIVINGAPARTMENTS_MEDI    69.432963\n",
      "FONDKAPREMONT_MODE          68.386172\n",
      "LIVINGAPARTMENTS_MODE       68.354953\n",
      "LIVINGAPARTMENTS_AVG        68.354953\n",
      "LIVINGAPARTMENTS_MEDI       68.354953\n",
      "dtype: float64\n"
     ]
    }
   ],
   "source": [
    "missing_values = app_train.isnull().sum().sort_values(ascending=False)\n",
    "missing_percent = (missing_values / len(app_train) * 100)\n",
    "\n",
    "print(f'Showing first 10 missing data columns: \\n \\n \\n{missing_percent.loc[missing_percent > 0].head(10)}')\n",
    "\n"
   ]
  },
  {
   "cell_type": "code",
   "execution_count": 23,
   "id": "2a08693b-7777-4174-8482-4b82996a226d",
   "metadata": {},
   "outputs": [],
   "source": [
    "# Showing the data that has missing values > 50%"
   ]
  },
  {
   "cell_type": "code",
   "execution_count": 24,
   "id": "09b59bf1-4797-4c33-b1c8-0aadea7c4da2",
   "metadata": {},
   "outputs": [
    {
     "name": "stdout",
     "output_type": "stream",
     "text": [
      "Index(['COMMONAREA_MEDI', 'COMMONAREA_AVG', 'COMMONAREA_MODE',\n",
      "       'NONLIVINGAPARTMENTS_MODE', 'NONLIVINGAPARTMENTS_AVG',\n",
      "       'NONLIVINGAPARTMENTS_MEDI', 'FONDKAPREMONT_MODE',\n",
      "       'LIVINGAPARTMENTS_MODE', 'LIVINGAPARTMENTS_AVG',\n",
      "       'LIVINGAPARTMENTS_MEDI', 'FLOORSMIN_AVG', 'FLOORSMIN_MODE',\n",
      "       'FLOORSMIN_MEDI', 'YEARS_BUILD_MEDI', 'YEARS_BUILD_MODE',\n",
      "       'YEARS_BUILD_AVG', 'OWN_CAR_AGE', 'LANDAREA_MEDI', 'LANDAREA_MODE',\n",
      "       'LANDAREA_AVG', 'BASEMENTAREA_MEDI', 'BASEMENTAREA_AVG',\n",
      "       'BASEMENTAREA_MODE', 'EXT_SOURCE_1', 'NONLIVINGAREA_MODE',\n",
      "       'NONLIVINGAREA_AVG', 'NONLIVINGAREA_MEDI', 'ELEVATORS_MEDI',\n",
      "       'ELEVATORS_AVG', 'ELEVATORS_MODE', 'WALLSMATERIAL_MODE',\n",
      "       'APARTMENTS_MEDI', 'APARTMENTS_AVG', 'APARTMENTS_MODE',\n",
      "       'ENTRANCES_MEDI', 'ENTRANCES_AVG', 'ENTRANCES_MODE', 'LIVINGAREA_AVG',\n",
      "       'LIVINGAREA_MODE', 'LIVINGAREA_MEDI', 'HOUSETYPE_MODE'],\n",
      "      dtype='object')\n",
      "\n",
      "\n",
      "There are: 41 columns missing data over 50%\n"
     ]
    }
   ],
   "source": [
    "missing_data_over_50 = missing_percent[missing_percent > 50]\n",
    "print(missing_data_over_50.index)\n",
    "print('\\n')\n",
    "print(f'There are: {len(missing_data_over_50)} columns missing data over 50%')"
   ]
  },
  {
   "cell_type": "code",
   "execution_count": 25,
   "id": "83e8041d-2754-48d4-99ae-df71f5c10b0b",
   "metadata": {},
   "outputs": [
    {
     "data": {
      "text/plain": [
       "COMMONAREA_MEDI             69.872297\n",
       "COMMONAREA_AVG              69.872297\n",
       "COMMONAREA_MODE             69.872297\n",
       "NONLIVINGAPARTMENTS_MODE    69.432963\n",
       "NONLIVINGAPARTMENTS_AVG     69.432963\n",
       "NONLIVINGAPARTMENTS_MEDI    69.432963\n",
       "FONDKAPREMONT_MODE          68.386172\n",
       "LIVINGAPARTMENTS_MODE       68.354953\n",
       "LIVINGAPARTMENTS_AVG        68.354953\n",
       "LIVINGAPARTMENTS_MEDI       68.354953\n",
       "FLOORSMIN_AVG               67.848630\n",
       "FLOORSMIN_MODE              67.848630\n",
       "FLOORSMIN_MEDI              67.848630\n",
       "YEARS_BUILD_MEDI            66.497784\n",
       "YEARS_BUILD_MODE            66.497784\n",
       "YEARS_BUILD_AVG             66.497784\n",
       "OWN_CAR_AGE                 65.990810\n",
       "LANDAREA_MEDI               59.376738\n",
       "LANDAREA_MODE               59.376738\n",
       "LANDAREA_AVG                59.376738\n",
       "BASEMENTAREA_MEDI           58.515956\n",
       "BASEMENTAREA_AVG            58.515956\n",
       "BASEMENTAREA_MODE           58.515956\n",
       "EXT_SOURCE_1                56.381073\n",
       "NONLIVINGAREA_MODE          55.179164\n",
       "NONLIVINGAREA_AVG           55.179164\n",
       "NONLIVINGAREA_MEDI          55.179164\n",
       "ELEVATORS_MEDI              53.295980\n",
       "ELEVATORS_AVG               53.295980\n",
       "ELEVATORS_MODE              53.295980\n",
       "WALLSMATERIAL_MODE          50.840783\n",
       "APARTMENTS_MEDI             50.749729\n",
       "APARTMENTS_AVG              50.749729\n",
       "APARTMENTS_MODE             50.749729\n",
       "ENTRANCES_MEDI              50.348768\n",
       "ENTRANCES_AVG               50.348768\n",
       "ENTRANCES_MODE              50.348768\n",
       "LIVINGAREA_AVG              50.193326\n",
       "LIVINGAREA_MODE             50.193326\n",
       "LIVINGAREA_MEDI             50.193326\n",
       "HOUSETYPE_MODE              50.176091\n",
       "dtype: float64"
      ]
     },
     "execution_count": 25,
     "metadata": {},
     "output_type": "execute_result"
    }
   ],
   "source": [
    "missing_data_over_50"
   ]
  },
  {
   "cell_type": "code",
   "execution_count": 26,
   "id": "da07cac6-89fb-4fc2-ac7c-bfee3dd1dd20",
   "metadata": {},
   "outputs": [],
   "source": [
    "app_train.drop(columns = missing_data_over_50.index, inplace=True)"
   ]
  },
  {
   "cell_type": "code",
   "execution_count": 27,
   "id": "832674b7-4ab6-421f-8b91-f92eb5b57840",
   "metadata": {},
   "outputs": [
    {
     "data": {
      "text/plain": [
       "(307511, 81)"
      ]
     },
     "execution_count": 27,
     "metadata": {},
     "output_type": "execute_result"
    }
   ],
   "source": [
    "app_train.shape"
   ]
  },
  {
   "cell_type": "code",
   "execution_count": null,
   "id": "b801a45f-773f-4dc6-8ee3-e3a509879296",
   "metadata": {},
   "outputs": [],
   "source": []
  },
  {
   "cell_type": "code",
   "execution_count": null,
   "id": "3922041a-3f23-44f2-9a96-26829aaa41e5",
   "metadata": {},
   "outputs": [],
   "source": []
  },
  {
   "cell_type": "markdown",
   "id": "6942472d-636d-450d-8f22-b8209e984085",
   "metadata": {},
   "source": [
    "# Checking Missing Values for Test"
   ]
  },
  {
   "cell_type": "code",
   "execution_count": 29,
   "id": "b5d11e86-4a5b-422b-a047-dd52cc7616de",
   "metadata": {},
   "outputs": [],
   "source": [
    "# Calculating missing values"
   ]
  },
  {
   "cell_type": "code",
   "execution_count": 30,
   "id": "4cd06775-dc67-4c7a-8f39-822cd8bdb0dc",
   "metadata": {},
   "outputs": [
    {
     "name": "stdout",
     "output_type": "stream",
     "text": [
      "Showing first 10 missing data columns: \n",
      " \n",
      " \n",
      "COMMONAREA_AVG              68.716150\n",
      "COMMONAREA_MODE             68.716150\n",
      "COMMONAREA_MEDI             68.716150\n",
      "NONLIVINGAPARTMENTS_AVG     68.412523\n",
      "NONLIVINGAPARTMENTS_MODE    68.412523\n",
      "NONLIVINGAPARTMENTS_MEDI    68.412523\n",
      "FONDKAPREMONT_MODE          67.284179\n",
      "LIVINGAPARTMENTS_AVG        67.249302\n",
      "LIVINGAPARTMENTS_MODE       67.249302\n",
      "LIVINGAPARTMENTS_MEDI       67.249302\n",
      "dtype: float64\n"
     ]
    }
   ],
   "source": [
    "missing_values_test = app_test.isnull().sum().sort_values(ascending=False)\n",
    "missing_percent_test = (missing_values_test / len(app_test) * 100)\n",
    "\n",
    "print(f'Showing first 10 missing data columns: \\n \\n \\n{missing_percent_test.loc[missing_percent_test > 0].head(10)}')\n",
    "\n"
   ]
  },
  {
   "cell_type": "code",
   "execution_count": 31,
   "id": "39ae00c1-3071-48b8-a0d8-cb16abb0b3dd",
   "metadata": {},
   "outputs": [],
   "source": [
    "# Showing the data that has missing values > 50%"
   ]
  },
  {
   "cell_type": "code",
   "execution_count": 32,
   "id": "b8002882-008c-4065-adbb-5ca2d8f1873c",
   "metadata": {},
   "outputs": [
    {
     "name": "stdout",
     "output_type": "stream",
     "text": [
      "Index(['COMMONAREA_AVG', 'COMMONAREA_MODE', 'COMMONAREA_MEDI',\n",
      "       'NONLIVINGAPARTMENTS_AVG', 'NONLIVINGAPARTMENTS_MODE',\n",
      "       'NONLIVINGAPARTMENTS_MEDI', 'FONDKAPREMONT_MODE',\n",
      "       'LIVINGAPARTMENTS_AVG', 'LIVINGAPARTMENTS_MODE',\n",
      "       'LIVINGAPARTMENTS_MEDI', 'FLOORSMIN_MEDI', 'FLOORSMIN_AVG',\n",
      "       'FLOORSMIN_MODE', 'OWN_CAR_AGE', 'YEARS_BUILD_AVG', 'YEARS_BUILD_MEDI',\n",
      "       'YEARS_BUILD_MODE', 'LANDAREA_MEDI', 'LANDAREA_AVG', 'LANDAREA_MODE',\n",
      "       'BASEMENTAREA_MEDI', 'BASEMENTAREA_AVG', 'BASEMENTAREA_MODE',\n",
      "       'NONLIVINGAREA_AVG', 'NONLIVINGAREA_MODE', 'NONLIVINGAREA_MEDI',\n",
      "       'ELEVATORS_MODE', 'ELEVATORS_MEDI', 'ELEVATORS_AVG'],\n",
      "      dtype='object')\n",
      "\n",
      "\n",
      "There are: 29 columns missing data over 50%\n"
     ]
    }
   ],
   "source": [
    "missing_data_over_50_test = missing_percent_test[missing_percent_test > 50]\n",
    "print(missing_data_over_50_test.index)\n",
    "print('\\n')\n",
    "print(f'There are: {len(missing_data_over_50_test)} columns missing data over 50%')"
   ]
  },
  {
   "cell_type": "code",
   "execution_count": null,
   "id": "1eb7fb4e-e47e-4e05-8136-4e1633e0680f",
   "metadata": {},
   "outputs": [],
   "source": []
  },
  {
   "cell_type": "code",
   "execution_count": null,
   "id": "b30c9d1c-ec53-4f28-a78c-281d5a671929",
   "metadata": {},
   "outputs": [],
   "source": []
  },
  {
   "cell_type": "markdown",
   "id": "6828f134-6366-4802-903b-13537d2d5424",
   "metadata": {},
   "source": [
    "There is a considerable amount of missing data.\n",
    "\n",
    "<br> In the next section: </br>\n",
    "<br> We will drop Null values greater than 50% for both train and test columns and impute the rest with the median.\n",
    "Since a model will eventually be created: both train and test must have the same columns (except for TARGET)\n"
   ]
  },
  {
   "cell_type": "markdown",
   "id": "17551e35-8e00-4c5c-8981-a1653aff7ff0",
   "metadata": {},
   "source": [
    "# Data Cleaning"
   ]
  },
  {
   "cell_type": "markdown",
   "id": "90e87349-825d-45bb-a55b-0c43ea190873",
   "metadata": {},
   "source": [
    "## Dropping large missing data and Categoricals missing Any Data"
   ]
  },
  {
   "cell_type": "markdown",
   "id": "5e9f5318-3cf3-496f-95f0-7c462d6b301c",
   "metadata": {},
   "source": [
    "## For Train"
   ]
  },
  {
   "cell_type": "code",
   "execution_count": 37,
   "id": "6b3c9ca3-23b4-416e-a050-52b1f4190a75",
   "metadata": {},
   "outputs": [],
   "source": [
    "app_train.drop(columns = missing_data_over_50.index, inplace=True , errors='ignore')"
   ]
  },
  {
   "cell_type": "code",
   "execution_count": 38,
   "id": "71619565-03dd-4c96-974f-e6feb028607e",
   "metadata": {},
   "outputs": [],
   "source": [
    "app_train.drop(columns = missing_data_over_50_test.index, inplace=True, errors='ignore')"
   ]
  },
  {
   "cell_type": "code",
   "execution_count": 39,
   "id": "13ddcd51-70d3-4ddc-8198-fd28d15d59e3",
   "metadata": {},
   "outputs": [],
   "source": [
    "#Finding the Null categoricals"
   ]
  },
  {
   "cell_type": "code",
   "execution_count": 40,
   "id": "9ed39dcd-7105-487e-b9a5-a0d2a20d14d6",
   "metadata": {},
   "outputs": [
    {
     "data": {
      "text/plain": [
       "Index(['NAME_TYPE_SUITE', 'OCCUPATION_TYPE', 'EMERGENCYSTATE_MODE'], dtype='object')"
      ]
     },
     "execution_count": 40,
     "metadata": {},
     "output_type": "execute_result"
    }
   ],
   "source": [
    "cat_null = app_train.select_dtypes('object').isnull().any().loc[lambda x: x]\n",
    "cat_null.index"
   ]
  },
  {
   "cell_type": "code",
   "execution_count": 41,
   "id": "6d8ac35a-dc73-4925-bea1-581deabb857a",
   "metadata": {},
   "outputs": [
    {
     "data": {
      "text/plain": [
       "NAME_CONTRACT_TYPE            False\n",
       "CODE_GENDER                   False\n",
       "FLAG_OWN_CAR                  False\n",
       "FLAG_OWN_REALTY               False\n",
       "NAME_TYPE_SUITE                True\n",
       "NAME_INCOME_TYPE              False\n",
       "NAME_EDUCATION_TYPE           False\n",
       "NAME_FAMILY_STATUS            False\n",
       "NAME_HOUSING_TYPE             False\n",
       "OCCUPATION_TYPE                True\n",
       "WEEKDAY_APPR_PROCESS_START    False\n",
       "ORGANIZATION_TYPE             False\n",
       "EMERGENCYSTATE_MODE            True\n",
       "dtype: bool"
      ]
     },
     "execution_count": 41,
     "metadata": {},
     "output_type": "execute_result"
    }
   ],
   "source": [
    "app_train.select_dtypes(exclude=np.number).isnull().sum() >0"
   ]
  },
  {
   "cell_type": "code",
   "execution_count": 42,
   "id": "c43cfdd3-21f4-45a3-aeb1-5c6a7fd414c3",
   "metadata": {},
   "outputs": [],
   "source": [
    "app_train.drop(columns = cat_null.index, inplace=True)"
   ]
  },
  {
   "cell_type": "code",
   "execution_count": 43,
   "id": "0fb526e5-46a9-4683-bfd4-46496c2a404e",
   "metadata": {},
   "outputs": [
    {
     "data": {
      "text/plain": [
       "(307511, 78)"
      ]
     },
     "execution_count": 43,
     "metadata": {},
     "output_type": "execute_result"
    }
   ],
   "source": [
    "app_train.shape"
   ]
  },
  {
   "cell_type": "code",
   "execution_count": 44,
   "id": "e119a931-0fc5-49f9-8422-4950fcf1e351",
   "metadata": {},
   "outputs": [
    {
     "data": {
      "text/plain": [
       "NAME_CONTRACT_TYPE            0\n",
       "CODE_GENDER                   0\n",
       "FLAG_OWN_CAR                  0\n",
       "FLAG_OWN_REALTY               0\n",
       "NAME_INCOME_TYPE              0\n",
       "NAME_EDUCATION_TYPE           0\n",
       "NAME_FAMILY_STATUS            0\n",
       "NAME_HOUSING_TYPE             0\n",
       "WEEKDAY_APPR_PROCESS_START    0\n",
       "ORGANIZATION_TYPE             0\n",
       "dtype: int64"
      ]
     },
     "execution_count": 44,
     "metadata": {},
     "output_type": "execute_result"
    }
   ],
   "source": [
    "app_train.select_dtypes(exclude=np.number).isnull().sum()"
   ]
  },
  {
   "cell_type": "markdown",
   "id": "93ba306b-bc7e-4f36-8628-e3c51471f677",
   "metadata": {},
   "source": [
    "## For Test"
   ]
  },
  {
   "cell_type": "code",
   "execution_count": 46,
   "id": "57578939-4175-45b8-97fd-2583f6dc6b7e",
   "metadata": {},
   "outputs": [],
   "source": [
    "app_test.drop(columns = missing_data_over_50.index, inplace=True)\n"
   ]
  },
  {
   "cell_type": "code",
   "execution_count": 47,
   "id": "d158f2e8-8c50-4725-955f-9a50d1eaaa81",
   "metadata": {},
   "outputs": [],
   "source": [
    "app_test.drop(columns = missing_data_over_50_test.index, inplace=True, errors='ignore')\n"
   ]
  },
  {
   "cell_type": "code",
   "execution_count": 48,
   "id": "7b5ceecb-4b0c-4ee5-92ca-4904b4f0d88e",
   "metadata": {},
   "outputs": [],
   "source": [
    "#Finding the Null categoricals"
   ]
  },
  {
   "cell_type": "code",
   "execution_count": 49,
   "id": "0575d1c9-6ecb-4edb-a413-104bb933466f",
   "metadata": {},
   "outputs": [
    {
     "data": {
      "text/plain": [
       "Index(['NAME_TYPE_SUITE', 'OCCUPATION_TYPE', 'EMERGENCYSTATE_MODE'], dtype='object')"
      ]
     },
     "execution_count": 49,
     "metadata": {},
     "output_type": "execute_result"
    }
   ],
   "source": [
    "cat_null = app_test.select_dtypes('object').isnull().any().loc[lambda x: x]\n",
    "cat_null.index"
   ]
  },
  {
   "cell_type": "code",
   "execution_count": 50,
   "id": "42808b94-138d-4a81-8bad-7802db9ac5d2",
   "metadata": {},
   "outputs": [],
   "source": [
    "app_test.drop(columns = cat_null.index, inplace=True)"
   ]
  },
  {
   "cell_type": "code",
   "execution_count": 51,
   "id": "4e4e90dc-bf81-48d1-be19-faf24f17572a",
   "metadata": {},
   "outputs": [
    {
     "data": {
      "text/plain": [
       "(48744, 77)"
      ]
     },
     "execution_count": 51,
     "metadata": {},
     "output_type": "execute_result"
    }
   ],
   "source": [
    "app_test.shape"
   ]
  },
  {
   "cell_type": "code",
   "execution_count": 52,
   "id": "a35ed1db-eacc-48d0-8742-99c9ec657314",
   "metadata": {},
   "outputs": [
    {
     "data": {
      "text/plain": [
       "SK_ID_CURR                       0\n",
       "NAME_CONTRACT_TYPE               0\n",
       "CODE_GENDER                      0\n",
       "FLAG_OWN_CAR                     0\n",
       "FLAG_OWN_REALTY                  0\n",
       "                              ... \n",
       "AMT_REQ_CREDIT_BUREAU_DAY     6049\n",
       "AMT_REQ_CREDIT_BUREAU_WEEK    6049\n",
       "AMT_REQ_CREDIT_BUREAU_MON     6049\n",
       "AMT_REQ_CREDIT_BUREAU_QRT     6049\n",
       "AMT_REQ_CREDIT_BUREAU_YEAR    6049\n",
       "Length: 77, dtype: int64"
      ]
     },
     "execution_count": 52,
     "metadata": {},
     "output_type": "execute_result"
    }
   ],
   "source": [
    "app_test.isnull().sum()"
   ]
  },
  {
   "cell_type": "markdown",
   "id": "7e50c050-2570-4ee4-9401-86f53265174a",
   "metadata": {},
   "source": [
    "# Imputing remainder missing data"
   ]
  },
  {
   "cell_type": "code",
   "execution_count": 54,
   "id": "ecbecd04-7ac2-42ff-bb9a-29d42f92fcbe",
   "metadata": {},
   "outputs": [],
   "source": [
    "# Null values < 50% will be imputed with the median for numerics\n",
    "# the null categoricals will be droppped."
   ]
  },
  {
   "cell_type": "markdown",
   "id": "62695339-3d0e-4d2e-a2b1-6194ffce9b52",
   "metadata": {},
   "source": [
    "## For Train"
   ]
  },
  {
   "cell_type": "code",
   "execution_count": 56,
   "id": "9c108348-8385-42e7-96e2-917546107bdb",
   "metadata": {},
   "outputs": [],
   "source": [
    "app_train.fillna(app_train.select_dtypes(include=[np.number]).median(), inplace=True)\n"
   ]
  },
  {
   "cell_type": "code",
   "execution_count": 57,
   "id": "47de09de-d275-4960-9cb7-6bdb6bf5c1e7",
   "metadata": {},
   "outputs": [
    {
     "data": {
      "text/plain": [
       "SK_ID_CURR                    0\n",
       "TARGET                        0\n",
       "NAME_CONTRACT_TYPE            0\n",
       "CODE_GENDER                   0\n",
       "FLAG_OWN_CAR                  0\n",
       "                             ..\n",
       "AMT_REQ_CREDIT_BUREAU_DAY     0\n",
       "AMT_REQ_CREDIT_BUREAU_WEEK    0\n",
       "AMT_REQ_CREDIT_BUREAU_MON     0\n",
       "AMT_REQ_CREDIT_BUREAU_QRT     0\n",
       "AMT_REQ_CREDIT_BUREAU_YEAR    0\n",
       "Length: 78, dtype: int64"
      ]
     },
     "execution_count": 57,
     "metadata": {},
     "output_type": "execute_result"
    }
   ],
   "source": [
    "app_train.isnull().sum()"
   ]
  },
  {
   "cell_type": "code",
   "execution_count": 58,
   "id": "5ac95376-9c79-4107-8008-f51747cc5e61",
   "metadata": {},
   "outputs": [
    {
     "data": {
      "text/html": [
       "<div>\n",
       "<style scoped>\n",
       "    .dataframe tbody tr th:only-of-type {\n",
       "        vertical-align: middle;\n",
       "    }\n",
       "\n",
       "    .dataframe tbody tr th {\n",
       "        vertical-align: top;\n",
       "    }\n",
       "\n",
       "    .dataframe thead th {\n",
       "        text-align: right;\n",
       "    }\n",
       "</style>\n",
       "<table border=\"1\" class=\"dataframe\">\n",
       "  <thead>\n",
       "    <tr style=\"text-align: right;\">\n",
       "      <th></th>\n",
       "      <th>SK_ID_CURR</th>\n",
       "      <th>TARGET</th>\n",
       "      <th>NAME_CONTRACT_TYPE</th>\n",
       "      <th>CODE_GENDER</th>\n",
       "      <th>FLAG_OWN_CAR</th>\n",
       "      <th>FLAG_OWN_REALTY</th>\n",
       "      <th>CNT_CHILDREN</th>\n",
       "      <th>AMT_INCOME_TOTAL</th>\n",
       "      <th>AMT_CREDIT</th>\n",
       "      <th>AMT_ANNUITY</th>\n",
       "      <th>...</th>\n",
       "      <th>FLAG_DOCUMENT_18</th>\n",
       "      <th>FLAG_DOCUMENT_19</th>\n",
       "      <th>FLAG_DOCUMENT_20</th>\n",
       "      <th>FLAG_DOCUMENT_21</th>\n",
       "      <th>AMT_REQ_CREDIT_BUREAU_HOUR</th>\n",
       "      <th>AMT_REQ_CREDIT_BUREAU_DAY</th>\n",
       "      <th>AMT_REQ_CREDIT_BUREAU_WEEK</th>\n",
       "      <th>AMT_REQ_CREDIT_BUREAU_MON</th>\n",
       "      <th>AMT_REQ_CREDIT_BUREAU_QRT</th>\n",
       "      <th>AMT_REQ_CREDIT_BUREAU_YEAR</th>\n",
       "    </tr>\n",
       "  </thead>\n",
       "  <tbody>\n",
       "  </tbody>\n",
       "</table>\n",
       "<p>0 rows × 78 columns</p>\n",
       "</div>"
      ],
      "text/plain": [
       "Empty DataFrame\n",
       "Columns: [SK_ID_CURR, TARGET, NAME_CONTRACT_TYPE, CODE_GENDER, FLAG_OWN_CAR, FLAG_OWN_REALTY, CNT_CHILDREN, AMT_INCOME_TOTAL, AMT_CREDIT, AMT_ANNUITY, AMT_GOODS_PRICE, NAME_INCOME_TYPE, NAME_EDUCATION_TYPE, NAME_FAMILY_STATUS, NAME_HOUSING_TYPE, REGION_POPULATION_RELATIVE, DAYS_BIRTH, DAYS_EMPLOYED, DAYS_REGISTRATION, DAYS_ID_PUBLISH, FLAG_MOBIL, FLAG_EMP_PHONE, FLAG_WORK_PHONE, FLAG_CONT_MOBILE, FLAG_PHONE, FLAG_EMAIL, CNT_FAM_MEMBERS, REGION_RATING_CLIENT, REGION_RATING_CLIENT_W_CITY, WEEKDAY_APPR_PROCESS_START, HOUR_APPR_PROCESS_START, REG_REGION_NOT_LIVE_REGION, REG_REGION_NOT_WORK_REGION, LIVE_REGION_NOT_WORK_REGION, REG_CITY_NOT_LIVE_CITY, REG_CITY_NOT_WORK_CITY, LIVE_CITY_NOT_WORK_CITY, ORGANIZATION_TYPE, EXT_SOURCE_2, EXT_SOURCE_3, YEARS_BEGINEXPLUATATION_AVG, FLOORSMAX_AVG, YEARS_BEGINEXPLUATATION_MODE, FLOORSMAX_MODE, YEARS_BEGINEXPLUATATION_MEDI, FLOORSMAX_MEDI, TOTALAREA_MODE, OBS_30_CNT_SOCIAL_CIRCLE, DEF_30_CNT_SOCIAL_CIRCLE, OBS_60_CNT_SOCIAL_CIRCLE, DEF_60_CNT_SOCIAL_CIRCLE, DAYS_LAST_PHONE_CHANGE, FLAG_DOCUMENT_2, FLAG_DOCUMENT_3, FLAG_DOCUMENT_4, FLAG_DOCUMENT_5, FLAG_DOCUMENT_6, FLAG_DOCUMENT_7, FLAG_DOCUMENT_8, FLAG_DOCUMENT_9, FLAG_DOCUMENT_10, FLAG_DOCUMENT_11, FLAG_DOCUMENT_12, FLAG_DOCUMENT_13, FLAG_DOCUMENT_14, FLAG_DOCUMENT_15, FLAG_DOCUMENT_16, FLAG_DOCUMENT_17, FLAG_DOCUMENT_18, FLAG_DOCUMENT_19, FLAG_DOCUMENT_20, FLAG_DOCUMENT_21, AMT_REQ_CREDIT_BUREAU_HOUR, AMT_REQ_CREDIT_BUREAU_DAY, AMT_REQ_CREDIT_BUREAU_WEEK, AMT_REQ_CREDIT_BUREAU_MON, AMT_REQ_CREDIT_BUREAU_QRT, AMT_REQ_CREDIT_BUREAU_YEAR]\n",
       "Index: []\n",
       "\n",
       "[0 rows x 78 columns]"
      ]
     },
     "execution_count": 58,
     "metadata": {},
     "output_type": "execute_result"
    }
   ],
   "source": [
    "app_train.loc[app_train.isnull().any(axis=1)]\n"
   ]
  },
  {
   "cell_type": "code",
   "execution_count": 59,
   "id": "a1e440e3-020e-44be-9858-2199ed16e0b6",
   "metadata": {},
   "outputs": [
    {
     "data": {
      "text/plain": [
       "(307511, 78)"
      ]
     },
     "execution_count": 59,
     "metadata": {},
     "output_type": "execute_result"
    }
   ],
   "source": [
    "app_train.shape"
   ]
  },
  {
   "cell_type": "markdown",
   "id": "7c81bab5-c402-42f7-bda3-7fd730e29808",
   "metadata": {},
   "source": [
    "## For Test"
   ]
  },
  {
   "cell_type": "code",
   "execution_count": 61,
   "id": "c69b01bf-c2de-496b-bb08-9a852f950054",
   "metadata": {},
   "outputs": [],
   "source": [
    "app_test.fillna(app_test.select_dtypes(include=[np.number]).median(), inplace=True)\n"
   ]
  },
  {
   "cell_type": "code",
   "execution_count": 62,
   "id": "46a69cdf-58e4-4f1f-ba02-7d3820999353",
   "metadata": {},
   "outputs": [
    {
     "data": {
      "text/plain": [
       "SK_ID_CURR                    0\n",
       "NAME_CONTRACT_TYPE            0\n",
       "CODE_GENDER                   0\n",
       "FLAG_OWN_CAR                  0\n",
       "FLAG_OWN_REALTY               0\n",
       "                             ..\n",
       "AMT_REQ_CREDIT_BUREAU_DAY     0\n",
       "AMT_REQ_CREDIT_BUREAU_WEEK    0\n",
       "AMT_REQ_CREDIT_BUREAU_MON     0\n",
       "AMT_REQ_CREDIT_BUREAU_QRT     0\n",
       "AMT_REQ_CREDIT_BUREAU_YEAR    0\n",
       "Length: 77, dtype: int64"
      ]
     },
     "execution_count": 62,
     "metadata": {},
     "output_type": "execute_result"
    }
   ],
   "source": [
    "app_test.isna().sum()"
   ]
  },
  {
   "cell_type": "code",
   "execution_count": 63,
   "id": "7b20bd88-9f85-471f-b1cb-2f0fac113f47",
   "metadata": {},
   "outputs": [
    {
     "data": {
      "text/html": [
       "<div>\n",
       "<style scoped>\n",
       "    .dataframe tbody tr th:only-of-type {\n",
       "        vertical-align: middle;\n",
       "    }\n",
       "\n",
       "    .dataframe tbody tr th {\n",
       "        vertical-align: top;\n",
       "    }\n",
       "\n",
       "    .dataframe thead th {\n",
       "        text-align: right;\n",
       "    }\n",
       "</style>\n",
       "<table border=\"1\" class=\"dataframe\">\n",
       "  <thead>\n",
       "    <tr style=\"text-align: right;\">\n",
       "      <th></th>\n",
       "      <th>SK_ID_CURR</th>\n",
       "      <th>NAME_CONTRACT_TYPE</th>\n",
       "      <th>CODE_GENDER</th>\n",
       "      <th>FLAG_OWN_CAR</th>\n",
       "      <th>FLAG_OWN_REALTY</th>\n",
       "      <th>CNT_CHILDREN</th>\n",
       "      <th>AMT_INCOME_TOTAL</th>\n",
       "      <th>AMT_CREDIT</th>\n",
       "      <th>AMT_ANNUITY</th>\n",
       "      <th>AMT_GOODS_PRICE</th>\n",
       "      <th>...</th>\n",
       "      <th>FLAG_DOCUMENT_18</th>\n",
       "      <th>FLAG_DOCUMENT_19</th>\n",
       "      <th>FLAG_DOCUMENT_20</th>\n",
       "      <th>FLAG_DOCUMENT_21</th>\n",
       "      <th>AMT_REQ_CREDIT_BUREAU_HOUR</th>\n",
       "      <th>AMT_REQ_CREDIT_BUREAU_DAY</th>\n",
       "      <th>AMT_REQ_CREDIT_BUREAU_WEEK</th>\n",
       "      <th>AMT_REQ_CREDIT_BUREAU_MON</th>\n",
       "      <th>AMT_REQ_CREDIT_BUREAU_QRT</th>\n",
       "      <th>AMT_REQ_CREDIT_BUREAU_YEAR</th>\n",
       "    </tr>\n",
       "  </thead>\n",
       "  <tbody>\n",
       "  </tbody>\n",
       "</table>\n",
       "<p>0 rows × 77 columns</p>\n",
       "</div>"
      ],
      "text/plain": [
       "Empty DataFrame\n",
       "Columns: [SK_ID_CURR, NAME_CONTRACT_TYPE, CODE_GENDER, FLAG_OWN_CAR, FLAG_OWN_REALTY, CNT_CHILDREN, AMT_INCOME_TOTAL, AMT_CREDIT, AMT_ANNUITY, AMT_GOODS_PRICE, NAME_INCOME_TYPE, NAME_EDUCATION_TYPE, NAME_FAMILY_STATUS, NAME_HOUSING_TYPE, REGION_POPULATION_RELATIVE, DAYS_BIRTH, DAYS_EMPLOYED, DAYS_REGISTRATION, DAYS_ID_PUBLISH, FLAG_MOBIL, FLAG_EMP_PHONE, FLAG_WORK_PHONE, FLAG_CONT_MOBILE, FLAG_PHONE, FLAG_EMAIL, CNT_FAM_MEMBERS, REGION_RATING_CLIENT, REGION_RATING_CLIENT_W_CITY, WEEKDAY_APPR_PROCESS_START, HOUR_APPR_PROCESS_START, REG_REGION_NOT_LIVE_REGION, REG_REGION_NOT_WORK_REGION, LIVE_REGION_NOT_WORK_REGION, REG_CITY_NOT_LIVE_CITY, REG_CITY_NOT_WORK_CITY, LIVE_CITY_NOT_WORK_CITY, ORGANIZATION_TYPE, EXT_SOURCE_2, EXT_SOURCE_3, YEARS_BEGINEXPLUATATION_AVG, FLOORSMAX_AVG, YEARS_BEGINEXPLUATATION_MODE, FLOORSMAX_MODE, YEARS_BEGINEXPLUATATION_MEDI, FLOORSMAX_MEDI, TOTALAREA_MODE, OBS_30_CNT_SOCIAL_CIRCLE, DEF_30_CNT_SOCIAL_CIRCLE, OBS_60_CNT_SOCIAL_CIRCLE, DEF_60_CNT_SOCIAL_CIRCLE, DAYS_LAST_PHONE_CHANGE, FLAG_DOCUMENT_2, FLAG_DOCUMENT_3, FLAG_DOCUMENT_4, FLAG_DOCUMENT_5, FLAG_DOCUMENT_6, FLAG_DOCUMENT_7, FLAG_DOCUMENT_8, FLAG_DOCUMENT_9, FLAG_DOCUMENT_10, FLAG_DOCUMENT_11, FLAG_DOCUMENT_12, FLAG_DOCUMENT_13, FLAG_DOCUMENT_14, FLAG_DOCUMENT_15, FLAG_DOCUMENT_16, FLAG_DOCUMENT_17, FLAG_DOCUMENT_18, FLAG_DOCUMENT_19, FLAG_DOCUMENT_20, FLAG_DOCUMENT_21, AMT_REQ_CREDIT_BUREAU_HOUR, AMT_REQ_CREDIT_BUREAU_DAY, AMT_REQ_CREDIT_BUREAU_WEEK, AMT_REQ_CREDIT_BUREAU_MON, AMT_REQ_CREDIT_BUREAU_QRT, AMT_REQ_CREDIT_BUREAU_YEAR]\n",
       "Index: []\n",
       "\n",
       "[0 rows x 77 columns]"
      ]
     },
     "execution_count": 63,
     "metadata": {},
     "output_type": "execute_result"
    }
   ],
   "source": [
    "app_test.loc[app_test.isnull().any(axis=1)]\n"
   ]
  },
  {
   "cell_type": "code",
   "execution_count": 64,
   "id": "58997918-2c7b-45c2-b5e3-85a8818eb227",
   "metadata": {},
   "outputs": [
    {
     "data": {
      "text/plain": [
       "(48744, 77)"
      ]
     },
     "execution_count": 64,
     "metadata": {},
     "output_type": "execute_result"
    }
   ],
   "source": [
    "app_test.shape"
   ]
  },
  {
   "cell_type": "code",
   "execution_count": null,
   "id": "dfaaf8d5-9f36-48d6-a1b8-9087c6bb827d",
   "metadata": {},
   "outputs": [],
   "source": []
  },
  {
   "cell_type": "code",
   "execution_count": null,
   "id": "2f1ea8c3-4a18-4b36-856c-47e072530848",
   "metadata": {},
   "outputs": [],
   "source": []
  },
  {
   "cell_type": "markdown",
   "id": "86bca5f4-9c9a-4d35-a9ac-86299956c093",
   "metadata": {},
   "source": [
    "# Converting Categoricals with One Hot Encoder"
   ]
  },
  {
   "cell_type": "markdown",
   "id": "3a5d8109-9994-45a9-bce3-ff947864fe13",
   "metadata": {},
   "source": [
    "## For Train"
   ]
  },
  {
   "cell_type": "code",
   "execution_count": 67,
   "id": "07357292-ea47-4bdf-a4b1-ef563f57f028",
   "metadata": {},
   "outputs": [],
   "source": [
    "# One Hot encoder is used to convert the categorical columns to binary labels.\n",
    "# This will help the logistic model"
   ]
  },
  {
   "cell_type": "code",
   "execution_count": 68,
   "id": "11b93be9-813c-46f8-bbe6-436b89b047ce",
   "metadata": {},
   "outputs": [
    {
     "data": {
      "text/html": [
       "<div>\n",
       "<style scoped>\n",
       "    .dataframe tbody tr th:only-of-type {\n",
       "        vertical-align: middle;\n",
       "    }\n",
       "\n",
       "    .dataframe tbody tr th {\n",
       "        vertical-align: top;\n",
       "    }\n",
       "\n",
       "    .dataframe thead th {\n",
       "        text-align: right;\n",
       "    }\n",
       "</style>\n",
       "<table border=\"1\" class=\"dataframe\">\n",
       "  <thead>\n",
       "    <tr style=\"text-align: right;\">\n",
       "      <th></th>\n",
       "      <th>NAME_CONTRACT_TYPE_Cash loans</th>\n",
       "      <th>NAME_CONTRACT_TYPE_Revolving loans</th>\n",
       "      <th>CODE_GENDER_F</th>\n",
       "      <th>CODE_GENDER_M</th>\n",
       "      <th>CODE_GENDER_XNA</th>\n",
       "      <th>FLAG_OWN_CAR_N</th>\n",
       "      <th>FLAG_OWN_CAR_Y</th>\n",
       "      <th>FLAG_OWN_REALTY_N</th>\n",
       "      <th>FLAG_OWN_REALTY_Y</th>\n",
       "      <th>NAME_INCOME_TYPE_Businessman</th>\n",
       "      <th>...</th>\n",
       "      <th>ORGANIZATION_TYPE_Trade: type 4</th>\n",
       "      <th>ORGANIZATION_TYPE_Trade: type 5</th>\n",
       "      <th>ORGANIZATION_TYPE_Trade: type 6</th>\n",
       "      <th>ORGANIZATION_TYPE_Trade: type 7</th>\n",
       "      <th>ORGANIZATION_TYPE_Transport: type 1</th>\n",
       "      <th>ORGANIZATION_TYPE_Transport: type 2</th>\n",
       "      <th>ORGANIZATION_TYPE_Transport: type 3</th>\n",
       "      <th>ORGANIZATION_TYPE_Transport: type 4</th>\n",
       "      <th>ORGANIZATION_TYPE_University</th>\n",
       "      <th>ORGANIZATION_TYPE_XNA</th>\n",
       "    </tr>\n",
       "  </thead>\n",
       "  <tbody>\n",
       "    <tr>\n",
       "      <th>0</th>\n",
       "      <td>1.0</td>\n",
       "      <td>0.0</td>\n",
       "      <td>0.0</td>\n",
       "      <td>1.0</td>\n",
       "      <td>0.0</td>\n",
       "      <td>1.0</td>\n",
       "      <td>0.0</td>\n",
       "      <td>0.0</td>\n",
       "      <td>1.0</td>\n",
       "      <td>0.0</td>\n",
       "      <td>...</td>\n",
       "      <td>0.0</td>\n",
       "      <td>0.0</td>\n",
       "      <td>0.0</td>\n",
       "      <td>0.0</td>\n",
       "      <td>0.0</td>\n",
       "      <td>0.0</td>\n",
       "      <td>0.0</td>\n",
       "      <td>0.0</td>\n",
       "      <td>0.0</td>\n",
       "      <td>0.0</td>\n",
       "    </tr>\n",
       "    <tr>\n",
       "      <th>1</th>\n",
       "      <td>1.0</td>\n",
       "      <td>0.0</td>\n",
       "      <td>1.0</td>\n",
       "      <td>0.0</td>\n",
       "      <td>0.0</td>\n",
       "      <td>1.0</td>\n",
       "      <td>0.0</td>\n",
       "      <td>1.0</td>\n",
       "      <td>0.0</td>\n",
       "      <td>0.0</td>\n",
       "      <td>...</td>\n",
       "      <td>0.0</td>\n",
       "      <td>0.0</td>\n",
       "      <td>0.0</td>\n",
       "      <td>0.0</td>\n",
       "      <td>0.0</td>\n",
       "      <td>0.0</td>\n",
       "      <td>0.0</td>\n",
       "      <td>0.0</td>\n",
       "      <td>0.0</td>\n",
       "      <td>0.0</td>\n",
       "    </tr>\n",
       "    <tr>\n",
       "      <th>2</th>\n",
       "      <td>0.0</td>\n",
       "      <td>1.0</td>\n",
       "      <td>0.0</td>\n",
       "      <td>1.0</td>\n",
       "      <td>0.0</td>\n",
       "      <td>0.0</td>\n",
       "      <td>1.0</td>\n",
       "      <td>0.0</td>\n",
       "      <td>1.0</td>\n",
       "      <td>0.0</td>\n",
       "      <td>...</td>\n",
       "      <td>0.0</td>\n",
       "      <td>0.0</td>\n",
       "      <td>0.0</td>\n",
       "      <td>0.0</td>\n",
       "      <td>0.0</td>\n",
       "      <td>0.0</td>\n",
       "      <td>0.0</td>\n",
       "      <td>0.0</td>\n",
       "      <td>0.0</td>\n",
       "      <td>0.0</td>\n",
       "    </tr>\n",
       "    <tr>\n",
       "      <th>3</th>\n",
       "      <td>1.0</td>\n",
       "      <td>0.0</td>\n",
       "      <td>1.0</td>\n",
       "      <td>0.0</td>\n",
       "      <td>0.0</td>\n",
       "      <td>1.0</td>\n",
       "      <td>0.0</td>\n",
       "      <td>0.0</td>\n",
       "      <td>1.0</td>\n",
       "      <td>0.0</td>\n",
       "      <td>...</td>\n",
       "      <td>0.0</td>\n",
       "      <td>0.0</td>\n",
       "      <td>0.0</td>\n",
       "      <td>0.0</td>\n",
       "      <td>0.0</td>\n",
       "      <td>0.0</td>\n",
       "      <td>0.0</td>\n",
       "      <td>0.0</td>\n",
       "      <td>0.0</td>\n",
       "      <td>0.0</td>\n",
       "    </tr>\n",
       "    <tr>\n",
       "      <th>4</th>\n",
       "      <td>1.0</td>\n",
       "      <td>0.0</td>\n",
       "      <td>0.0</td>\n",
       "      <td>1.0</td>\n",
       "      <td>0.0</td>\n",
       "      <td>1.0</td>\n",
       "      <td>0.0</td>\n",
       "      <td>0.0</td>\n",
       "      <td>1.0</td>\n",
       "      <td>0.0</td>\n",
       "      <td>...</td>\n",
       "      <td>0.0</td>\n",
       "      <td>0.0</td>\n",
       "      <td>0.0</td>\n",
       "      <td>0.0</td>\n",
       "      <td>0.0</td>\n",
       "      <td>0.0</td>\n",
       "      <td>0.0</td>\n",
       "      <td>0.0</td>\n",
       "      <td>0.0</td>\n",
       "      <td>0.0</td>\n",
       "    </tr>\n",
       "  </tbody>\n",
       "</table>\n",
       "<p>5 rows × 99 columns</p>\n",
       "</div>"
      ],
      "text/plain": [
       "   NAME_CONTRACT_TYPE_Cash loans  NAME_CONTRACT_TYPE_Revolving loans  \\\n",
       "0                            1.0                                 0.0   \n",
       "1                            1.0                                 0.0   \n",
       "2                            0.0                                 1.0   \n",
       "3                            1.0                                 0.0   \n",
       "4                            1.0                                 0.0   \n",
       "\n",
       "   CODE_GENDER_F  CODE_GENDER_M  CODE_GENDER_XNA  FLAG_OWN_CAR_N  \\\n",
       "0            0.0            1.0              0.0             1.0   \n",
       "1            1.0            0.0              0.0             1.0   \n",
       "2            0.0            1.0              0.0             0.0   \n",
       "3            1.0            0.0              0.0             1.0   \n",
       "4            0.0            1.0              0.0             1.0   \n",
       "\n",
       "   FLAG_OWN_CAR_Y  FLAG_OWN_REALTY_N  FLAG_OWN_REALTY_Y  \\\n",
       "0             0.0                0.0                1.0   \n",
       "1             0.0                1.0                0.0   \n",
       "2             1.0                0.0                1.0   \n",
       "3             0.0                0.0                1.0   \n",
       "4             0.0                0.0                1.0   \n",
       "\n",
       "   NAME_INCOME_TYPE_Businessman  ...  ORGANIZATION_TYPE_Trade: type 4  \\\n",
       "0                           0.0  ...                              0.0   \n",
       "1                           0.0  ...                              0.0   \n",
       "2                           0.0  ...                              0.0   \n",
       "3                           0.0  ...                              0.0   \n",
       "4                           0.0  ...                              0.0   \n",
       "\n",
       "   ORGANIZATION_TYPE_Trade: type 5  ORGANIZATION_TYPE_Trade: type 6  \\\n",
       "0                              0.0                              0.0   \n",
       "1                              0.0                              0.0   \n",
       "2                              0.0                              0.0   \n",
       "3                              0.0                              0.0   \n",
       "4                              0.0                              0.0   \n",
       "\n",
       "   ORGANIZATION_TYPE_Trade: type 7  ORGANIZATION_TYPE_Transport: type 1  \\\n",
       "0                              0.0                                  0.0   \n",
       "1                              0.0                                  0.0   \n",
       "2                              0.0                                  0.0   \n",
       "3                              0.0                                  0.0   \n",
       "4                              0.0                                  0.0   \n",
       "\n",
       "   ORGANIZATION_TYPE_Transport: type 2  ORGANIZATION_TYPE_Transport: type 3  \\\n",
       "0                                  0.0                                  0.0   \n",
       "1                                  0.0                                  0.0   \n",
       "2                                  0.0                                  0.0   \n",
       "3                                  0.0                                  0.0   \n",
       "4                                  0.0                                  0.0   \n",
       "\n",
       "   ORGANIZATION_TYPE_Transport: type 4  ORGANIZATION_TYPE_University  \\\n",
       "0                                  0.0                           0.0   \n",
       "1                                  0.0                           0.0   \n",
       "2                                  0.0                           0.0   \n",
       "3                                  0.0                           0.0   \n",
       "4                                  0.0                           0.0   \n",
       "\n",
       "   ORGANIZATION_TYPE_XNA  \n",
       "0                    0.0  \n",
       "1                    0.0  \n",
       "2                    0.0  \n",
       "3                    0.0  \n",
       "4                    0.0  \n",
       "\n",
       "[5 rows x 99 columns]"
      ]
     },
     "execution_count": 68,
     "metadata": {},
     "output_type": "execute_result"
    }
   ],
   "source": [
    "from sklearn.preprocessing import OneHotEncoder\n",
    "\n",
    "ohe = OneHotEncoder(handle_unknown = 'ignore', sparse_output = False).set_output(transform='pandas')\n",
    "\n",
    "ohetransform = ohe.fit_transform(app_train.select_dtypes(exclude=[np.number]))\n",
    "\n",
    "ohetransform.head()"
   ]
  },
  {
   "cell_type": "code",
   "execution_count": 69,
   "id": "8271e43f-62aa-4629-84d6-81356055d8e1",
   "metadata": {},
   "outputs": [],
   "source": [
    "app_train = pd.concat([app_train.select_dtypes(include=[np.number]), ohetransform], axis = 1)\n",
    "\n"
   ]
  },
  {
   "cell_type": "code",
   "execution_count": 70,
   "id": "b7c3b365-ebf2-4970-a2ce-f136a6f8713f",
   "metadata": {},
   "outputs": [
    {
     "data": {
      "text/plain": [
       "(307511, 167)"
      ]
     },
     "execution_count": 70,
     "metadata": {},
     "output_type": "execute_result"
    }
   ],
   "source": [
    "app_train.shape"
   ]
  },
  {
   "cell_type": "code",
   "execution_count": 71,
   "id": "9192bd98-b405-4ad7-a1b7-f8e812ec5bf1",
   "metadata": {},
   "outputs": [],
   "source": [
    "# Now that we have converted the previous categorical columns to OHE, I will drop the original categorical columns\n",
    "# and then combine the numeric columns with the OHE columns"
   ]
  },
  {
   "cell_type": "code",
   "execution_count": 72,
   "id": "ea440355-3913-4ce5-a073-94a9d028c75c",
   "metadata": {},
   "outputs": [
    {
     "data": {
      "text/plain": [
       "Index([], dtype='object')"
      ]
     },
     "execution_count": 72,
     "metadata": {},
     "output_type": "execute_result"
    }
   ],
   "source": [
    "\n",
    "cols_to_drop = app_train.select_dtypes(exclude=[np.number]).columns\n",
    "cols_to_drop.shape\n",
    "cols_to_drop"
   ]
  },
  {
   "cell_type": "code",
   "execution_count": 73,
   "id": "250b4d6b-2766-48f8-8d69-820607010920",
   "metadata": {},
   "outputs": [],
   "source": [
    "app_train.drop(columns = cols_to_drop, inplace=True)"
   ]
  },
  {
   "cell_type": "code",
   "execution_count": 74,
   "id": "4f0ce574-fce7-4924-b17f-452e4e164406",
   "metadata": {},
   "outputs": [
    {
     "data": {
      "text/plain": [
       "(307511, 167)"
      ]
     },
     "execution_count": 74,
     "metadata": {},
     "output_type": "execute_result"
    }
   ],
   "source": [
    "app_train.shape"
   ]
  },
  {
   "cell_type": "code",
   "execution_count": null,
   "id": "a88744e0-864c-4501-becc-283dd4bb4222",
   "metadata": {},
   "outputs": [],
   "source": []
  },
  {
   "cell_type": "code",
   "execution_count": null,
   "id": "472c3ab7-4a2e-4e3d-94da-9730b49014de",
   "metadata": {},
   "outputs": [],
   "source": []
  },
  {
   "cell_type": "markdown",
   "id": "aa604358-09d1-4ce0-8706-eaf3f0399341",
   "metadata": {},
   "source": [
    "## For Test"
   ]
  },
  {
   "cell_type": "code",
   "execution_count": 76,
   "id": "4941878e-ba59-40b6-a0a8-aeccbb67c221",
   "metadata": {},
   "outputs": [
    {
     "data": {
      "text/html": [
       "<div>\n",
       "<style scoped>\n",
       "    .dataframe tbody tr th:only-of-type {\n",
       "        vertical-align: middle;\n",
       "    }\n",
       "\n",
       "    .dataframe tbody tr th {\n",
       "        vertical-align: top;\n",
       "    }\n",
       "\n",
       "    .dataframe thead th {\n",
       "        text-align: right;\n",
       "    }\n",
       "</style>\n",
       "<table border=\"1\" class=\"dataframe\">\n",
       "  <thead>\n",
       "    <tr style=\"text-align: right;\">\n",
       "      <th></th>\n",
       "      <th>NAME_CONTRACT_TYPE_Cash loans</th>\n",
       "      <th>NAME_CONTRACT_TYPE_Revolving loans</th>\n",
       "      <th>CODE_GENDER_F</th>\n",
       "      <th>CODE_GENDER_M</th>\n",
       "      <th>FLAG_OWN_CAR_N</th>\n",
       "      <th>FLAG_OWN_CAR_Y</th>\n",
       "      <th>FLAG_OWN_REALTY_N</th>\n",
       "      <th>FLAG_OWN_REALTY_Y</th>\n",
       "      <th>NAME_INCOME_TYPE_Businessman</th>\n",
       "      <th>NAME_INCOME_TYPE_Commercial associate</th>\n",
       "      <th>...</th>\n",
       "      <th>ORGANIZATION_TYPE_Trade: type 4</th>\n",
       "      <th>ORGANIZATION_TYPE_Trade: type 5</th>\n",
       "      <th>ORGANIZATION_TYPE_Trade: type 6</th>\n",
       "      <th>ORGANIZATION_TYPE_Trade: type 7</th>\n",
       "      <th>ORGANIZATION_TYPE_Transport: type 1</th>\n",
       "      <th>ORGANIZATION_TYPE_Transport: type 2</th>\n",
       "      <th>ORGANIZATION_TYPE_Transport: type 3</th>\n",
       "      <th>ORGANIZATION_TYPE_Transport: type 4</th>\n",
       "      <th>ORGANIZATION_TYPE_University</th>\n",
       "      <th>ORGANIZATION_TYPE_XNA</th>\n",
       "    </tr>\n",
       "  </thead>\n",
       "  <tbody>\n",
       "    <tr>\n",
       "      <th>0</th>\n",
       "      <td>1.0</td>\n",
       "      <td>0.0</td>\n",
       "      <td>1.0</td>\n",
       "      <td>0.0</td>\n",
       "      <td>1.0</td>\n",
       "      <td>0.0</td>\n",
       "      <td>0.0</td>\n",
       "      <td>1.0</td>\n",
       "      <td>0.0</td>\n",
       "      <td>0.0</td>\n",
       "      <td>...</td>\n",
       "      <td>0.0</td>\n",
       "      <td>0.0</td>\n",
       "      <td>0.0</td>\n",
       "      <td>0.0</td>\n",
       "      <td>0.0</td>\n",
       "      <td>0.0</td>\n",
       "      <td>0.0</td>\n",
       "      <td>0.0</td>\n",
       "      <td>0.0</td>\n",
       "      <td>0.0</td>\n",
       "    </tr>\n",
       "    <tr>\n",
       "      <th>1</th>\n",
       "      <td>1.0</td>\n",
       "      <td>0.0</td>\n",
       "      <td>0.0</td>\n",
       "      <td>1.0</td>\n",
       "      <td>1.0</td>\n",
       "      <td>0.0</td>\n",
       "      <td>0.0</td>\n",
       "      <td>1.0</td>\n",
       "      <td>0.0</td>\n",
       "      <td>0.0</td>\n",
       "      <td>...</td>\n",
       "      <td>0.0</td>\n",
       "      <td>0.0</td>\n",
       "      <td>0.0</td>\n",
       "      <td>0.0</td>\n",
       "      <td>0.0</td>\n",
       "      <td>0.0</td>\n",
       "      <td>0.0</td>\n",
       "      <td>0.0</td>\n",
       "      <td>0.0</td>\n",
       "      <td>0.0</td>\n",
       "    </tr>\n",
       "    <tr>\n",
       "      <th>2</th>\n",
       "      <td>1.0</td>\n",
       "      <td>0.0</td>\n",
       "      <td>0.0</td>\n",
       "      <td>1.0</td>\n",
       "      <td>0.0</td>\n",
       "      <td>1.0</td>\n",
       "      <td>0.0</td>\n",
       "      <td>1.0</td>\n",
       "      <td>0.0</td>\n",
       "      <td>0.0</td>\n",
       "      <td>...</td>\n",
       "      <td>0.0</td>\n",
       "      <td>0.0</td>\n",
       "      <td>0.0</td>\n",
       "      <td>0.0</td>\n",
       "      <td>0.0</td>\n",
       "      <td>0.0</td>\n",
       "      <td>1.0</td>\n",
       "      <td>0.0</td>\n",
       "      <td>0.0</td>\n",
       "      <td>0.0</td>\n",
       "    </tr>\n",
       "    <tr>\n",
       "      <th>3</th>\n",
       "      <td>1.0</td>\n",
       "      <td>0.0</td>\n",
       "      <td>1.0</td>\n",
       "      <td>0.0</td>\n",
       "      <td>1.0</td>\n",
       "      <td>0.0</td>\n",
       "      <td>0.0</td>\n",
       "      <td>1.0</td>\n",
       "      <td>0.0</td>\n",
       "      <td>0.0</td>\n",
       "      <td>...</td>\n",
       "      <td>0.0</td>\n",
       "      <td>0.0</td>\n",
       "      <td>0.0</td>\n",
       "      <td>0.0</td>\n",
       "      <td>0.0</td>\n",
       "      <td>0.0</td>\n",
       "      <td>0.0</td>\n",
       "      <td>0.0</td>\n",
       "      <td>0.0</td>\n",
       "      <td>0.0</td>\n",
       "    </tr>\n",
       "    <tr>\n",
       "      <th>4</th>\n",
       "      <td>1.0</td>\n",
       "      <td>0.0</td>\n",
       "      <td>0.0</td>\n",
       "      <td>1.0</td>\n",
       "      <td>0.0</td>\n",
       "      <td>1.0</td>\n",
       "      <td>1.0</td>\n",
       "      <td>0.0</td>\n",
       "      <td>0.0</td>\n",
       "      <td>0.0</td>\n",
       "      <td>...</td>\n",
       "      <td>0.0</td>\n",
       "      <td>0.0</td>\n",
       "      <td>0.0</td>\n",
       "      <td>0.0</td>\n",
       "      <td>0.0</td>\n",
       "      <td>0.0</td>\n",
       "      <td>0.0</td>\n",
       "      <td>0.0</td>\n",
       "      <td>0.0</td>\n",
       "      <td>0.0</td>\n",
       "    </tr>\n",
       "  </tbody>\n",
       "</table>\n",
       "<p>5 rows × 96 columns</p>\n",
       "</div>"
      ],
      "text/plain": [
       "   NAME_CONTRACT_TYPE_Cash loans  NAME_CONTRACT_TYPE_Revolving loans  \\\n",
       "0                            1.0                                 0.0   \n",
       "1                            1.0                                 0.0   \n",
       "2                            1.0                                 0.0   \n",
       "3                            1.0                                 0.0   \n",
       "4                            1.0                                 0.0   \n",
       "\n",
       "   CODE_GENDER_F  CODE_GENDER_M  FLAG_OWN_CAR_N  FLAG_OWN_CAR_Y  \\\n",
       "0            1.0            0.0             1.0             0.0   \n",
       "1            0.0            1.0             1.0             0.0   \n",
       "2            0.0            1.0             0.0             1.0   \n",
       "3            1.0            0.0             1.0             0.0   \n",
       "4            0.0            1.0             0.0             1.0   \n",
       "\n",
       "   FLAG_OWN_REALTY_N  FLAG_OWN_REALTY_Y  NAME_INCOME_TYPE_Businessman  \\\n",
       "0                0.0                1.0                           0.0   \n",
       "1                0.0                1.0                           0.0   \n",
       "2                0.0                1.0                           0.0   \n",
       "3                0.0                1.0                           0.0   \n",
       "4                1.0                0.0                           0.0   \n",
       "\n",
       "   NAME_INCOME_TYPE_Commercial associate  ...  \\\n",
       "0                                    0.0  ...   \n",
       "1                                    0.0  ...   \n",
       "2                                    0.0  ...   \n",
       "3                                    0.0  ...   \n",
       "4                                    0.0  ...   \n",
       "\n",
       "   ORGANIZATION_TYPE_Trade: type 4  ORGANIZATION_TYPE_Trade: type 5  \\\n",
       "0                              0.0                              0.0   \n",
       "1                              0.0                              0.0   \n",
       "2                              0.0                              0.0   \n",
       "3                              0.0                              0.0   \n",
       "4                              0.0                              0.0   \n",
       "\n",
       "   ORGANIZATION_TYPE_Trade: type 6  ORGANIZATION_TYPE_Trade: type 7  \\\n",
       "0                              0.0                              0.0   \n",
       "1                              0.0                              0.0   \n",
       "2                              0.0                              0.0   \n",
       "3                              0.0                              0.0   \n",
       "4                              0.0                              0.0   \n",
       "\n",
       "   ORGANIZATION_TYPE_Transport: type 1  ORGANIZATION_TYPE_Transport: type 2  \\\n",
       "0                                  0.0                                  0.0   \n",
       "1                                  0.0                                  0.0   \n",
       "2                                  0.0                                  0.0   \n",
       "3                                  0.0                                  0.0   \n",
       "4                                  0.0                                  0.0   \n",
       "\n",
       "   ORGANIZATION_TYPE_Transport: type 3  ORGANIZATION_TYPE_Transport: type 4  \\\n",
       "0                                  0.0                                  0.0   \n",
       "1                                  0.0                                  0.0   \n",
       "2                                  1.0                                  0.0   \n",
       "3                                  0.0                                  0.0   \n",
       "4                                  0.0                                  0.0   \n",
       "\n",
       "   ORGANIZATION_TYPE_University  ORGANIZATION_TYPE_XNA  \n",
       "0                           0.0                    0.0  \n",
       "1                           0.0                    0.0  \n",
       "2                           0.0                    0.0  \n",
       "3                           0.0                    0.0  \n",
       "4                           0.0                    0.0  \n",
       "\n",
       "[5 rows x 96 columns]"
      ]
     },
     "execution_count": 76,
     "metadata": {},
     "output_type": "execute_result"
    }
   ],
   "source": [
    "from sklearn.preprocessing import OneHotEncoder\n",
    "\n",
    "ohe_test = OneHotEncoder(handle_unknown = 'ignore', sparse_output = False).set_output(transform='pandas')\n",
    "\n",
    "ohetransform_test= ohe.fit_transform(app_test.select_dtypes(exclude=[np.number]))\n",
    "\n",
    "ohetransform_test.head()"
   ]
  },
  {
   "cell_type": "code",
   "execution_count": 77,
   "id": "f1722ec3-55f6-4b5d-908b-563932a26c30",
   "metadata": {},
   "outputs": [],
   "source": [
    "app_test = pd.concat([app_test.select_dtypes(include=[np.number]), ohetransform_test], axis = 1)"
   ]
  },
  {
   "cell_type": "code",
   "execution_count": 78,
   "id": "ef3b6b36-7b74-4945-a295-647f2ca6e87f",
   "metadata": {},
   "outputs": [
    {
     "data": {
      "text/plain": [
       "(48744, 163)"
      ]
     },
     "execution_count": 78,
     "metadata": {},
     "output_type": "execute_result"
    }
   ],
   "source": [
    "app_test.shape"
   ]
  },
  {
   "cell_type": "code",
   "execution_count": null,
   "id": "468afbe7-0f44-474d-8a7c-dbb536f35824",
   "metadata": {},
   "outputs": [],
   "source": []
  },
  {
   "cell_type": "markdown",
   "id": "cd972051-bee8-418a-80ce-90babcece2c7",
   "metadata": {},
   "source": [
    "## Adjusting both Train and Test dataset"
   ]
  },
  {
   "cell_type": "markdown",
   "id": "ee2e3c8e-b3cb-439b-88af-b2423c71d410",
   "metadata": {},
   "source": [
    "The train dataset had 167 columns after using OHE\n",
    "The test dataset had 163 columns after using OHE\n",
    "\n",
    "We will balance the columns by using the common columns only. \n",
    "Furthermore we will add back TARGET to app_train_encoded"
   ]
  },
  {
   "cell_type": "code",
   "execution_count": 81,
   "id": "8029ee36-df6c-4d58-8be3-6d706f91a1f9",
   "metadata": {},
   "outputs": [],
   "source": [
    "app_train_encoded = pd.get_dummies(app_train, drop_first=True)\n",
    "app_test_encoded = pd.get_dummies(app_test, drop_first=True)\n",
    "\n",
    "\n",
    "common_cols = app_train_encoded.columns.intersection(app_test_encoded.columns)  \n",
    "\n",
    "\n",
    "app_train_encoded = app_train_encoded[common_cols]\n",
    "app_test_encoded = app_test_encoded.reindex(columns=common_cols, fill_value=0)  \n",
    "\n",
    "\n",
    "app_train_encoded['TARGET'] = app_train['TARGET']"
   ]
  },
  {
   "cell_type": "code",
   "execution_count": 82,
   "id": "9e3883fb-cd15-4862-9b48-1498413c0959",
   "metadata": {},
   "outputs": [
    {
     "data": {
      "text/plain": [
       "(307511, 164)"
      ]
     },
     "execution_count": 82,
     "metadata": {},
     "output_type": "execute_result"
    }
   ],
   "source": [
    "app_train_encoded.shape"
   ]
  },
  {
   "cell_type": "code",
   "execution_count": 83,
   "id": "ad777662-8ad8-4dc4-a4db-65b46924f692",
   "metadata": {},
   "outputs": [
    {
     "data": {
      "text/plain": [
       "(48744, 163)"
      ]
     },
     "execution_count": 83,
     "metadata": {},
     "output_type": "execute_result"
    }
   ],
   "source": [
    "app_test_encoded.shape"
   ]
  },
  {
   "cell_type": "code",
   "execution_count": null,
   "id": "4c106127-c61d-46df-ac4b-9a4bf3112c26",
   "metadata": {},
   "outputs": [],
   "source": []
  },
  {
   "cell_type": "markdown",
   "id": "c619abc6-b964-4d85-9566-33195ade17b3",
   "metadata": {},
   "source": [
    "## Imputing Outliers"
   ]
  },
  {
   "cell_type": "code",
   "execution_count": 85,
   "id": "010e62f9-f86e-4c6c-b1aa-b4073f3ea26f",
   "metadata": {},
   "outputs": [],
   "source": [
    "# Since the Kaggle submission requires us to not delete any rows from the Test set,\n",
    "# We will impute outliers instead of removing them"
   ]
  },
  {
   "cell_type": "code",
   "execution_count": 86,
   "id": "59353f48-dc7c-4175-ada1-e4d9d8ee55b3",
   "metadata": {},
   "outputs": [
    {
     "data": {
      "text/html": [
       "<div>\n",
       "<style scoped>\n",
       "    .dataframe tbody tr th:only-of-type {\n",
       "        vertical-align: middle;\n",
       "    }\n",
       "\n",
       "    .dataframe tbody tr th {\n",
       "        vertical-align: top;\n",
       "    }\n",
       "\n",
       "    .dataframe thead th {\n",
       "        text-align: right;\n",
       "    }\n",
       "</style>\n",
       "<table border=\"1\" class=\"dataframe\">\n",
       "  <thead>\n",
       "    <tr style=\"text-align: right;\">\n",
       "      <th></th>\n",
       "      <th>SK_ID_CURR</th>\n",
       "      <th>CNT_CHILDREN</th>\n",
       "      <th>AMT_INCOME_TOTAL</th>\n",
       "      <th>AMT_CREDIT</th>\n",
       "      <th>AMT_ANNUITY</th>\n",
       "      <th>AMT_GOODS_PRICE</th>\n",
       "      <th>REGION_POPULATION_RELATIVE</th>\n",
       "      <th>DAYS_BIRTH</th>\n",
       "      <th>DAYS_EMPLOYED</th>\n",
       "      <th>DAYS_REGISTRATION</th>\n",
       "      <th>...</th>\n",
       "      <th>ORGANIZATION_TYPE_Trade: type 5</th>\n",
       "      <th>ORGANIZATION_TYPE_Trade: type 6</th>\n",
       "      <th>ORGANIZATION_TYPE_Trade: type 7</th>\n",
       "      <th>ORGANIZATION_TYPE_Transport: type 1</th>\n",
       "      <th>ORGANIZATION_TYPE_Transport: type 2</th>\n",
       "      <th>ORGANIZATION_TYPE_Transport: type 3</th>\n",
       "      <th>ORGANIZATION_TYPE_Transport: type 4</th>\n",
       "      <th>ORGANIZATION_TYPE_University</th>\n",
       "      <th>ORGANIZATION_TYPE_XNA</th>\n",
       "      <th>TARGET</th>\n",
       "    </tr>\n",
       "  </thead>\n",
       "  <tbody>\n",
       "    <tr>\n",
       "      <th>count</th>\n",
       "      <td>307511.000000</td>\n",
       "      <td>307511.000000</td>\n",
       "      <td>3.075110e+05</td>\n",
       "      <td>3.075110e+05</td>\n",
       "      <td>307511.000000</td>\n",
       "      <td>3.075110e+05</td>\n",
       "      <td>307511.000000</td>\n",
       "      <td>307511.000000</td>\n",
       "      <td>307511.000000</td>\n",
       "      <td>307511.000000</td>\n",
       "      <td>...</td>\n",
       "      <td>307511.000000</td>\n",
       "      <td>307511.000000</td>\n",
       "      <td>307511.000000</td>\n",
       "      <td>307511.000000</td>\n",
       "      <td>307511.000000</td>\n",
       "      <td>307511.000000</td>\n",
       "      <td>307511.000000</td>\n",
       "      <td>307511.000000</td>\n",
       "      <td>307511.000000</td>\n",
       "      <td>307511.000000</td>\n",
       "    </tr>\n",
       "    <tr>\n",
       "      <th>mean</th>\n",
       "      <td>278180.518577</td>\n",
       "      <td>0.417052</td>\n",
       "      <td>1.687979e+05</td>\n",
       "      <td>5.990260e+05</td>\n",
       "      <td>27108.487841</td>\n",
       "      <td>5.383163e+05</td>\n",
       "      <td>0.020868</td>\n",
       "      <td>-16036.995067</td>\n",
       "      <td>63815.045904</td>\n",
       "      <td>-4986.120328</td>\n",
       "      <td>...</td>\n",
       "      <td>0.000159</td>\n",
       "      <td>0.002052</td>\n",
       "      <td>0.025466</td>\n",
       "      <td>0.000654</td>\n",
       "      <td>0.007167</td>\n",
       "      <td>0.003860</td>\n",
       "      <td>0.017554</td>\n",
       "      <td>0.004315</td>\n",
       "      <td>0.180072</td>\n",
       "      <td>0.080729</td>\n",
       "    </tr>\n",
       "    <tr>\n",
       "      <th>std</th>\n",
       "      <td>102790.175348</td>\n",
       "      <td>0.722121</td>\n",
       "      <td>2.371231e+05</td>\n",
       "      <td>4.024908e+05</td>\n",
       "      <td>14493.461065</td>\n",
       "      <td>3.692890e+05</td>\n",
       "      <td>0.013831</td>\n",
       "      <td>4363.988632</td>\n",
       "      <td>141275.766519</td>\n",
       "      <td>3522.886321</td>\n",
       "      <td>...</td>\n",
       "      <td>0.012622</td>\n",
       "      <td>0.045252</td>\n",
       "      <td>0.157535</td>\n",
       "      <td>0.025558</td>\n",
       "      <td>0.084356</td>\n",
       "      <td>0.062009</td>\n",
       "      <td>0.131323</td>\n",
       "      <td>0.065549</td>\n",
       "      <td>0.384248</td>\n",
       "      <td>0.272419</td>\n",
       "    </tr>\n",
       "    <tr>\n",
       "      <th>min</th>\n",
       "      <td>100002.000000</td>\n",
       "      <td>0.000000</td>\n",
       "      <td>2.565000e+04</td>\n",
       "      <td>4.500000e+04</td>\n",
       "      <td>1615.500000</td>\n",
       "      <td>4.050000e+04</td>\n",
       "      <td>0.000290</td>\n",
       "      <td>-25229.000000</td>\n",
       "      <td>-17912.000000</td>\n",
       "      <td>-24672.000000</td>\n",
       "      <td>...</td>\n",
       "      <td>0.000000</td>\n",
       "      <td>0.000000</td>\n",
       "      <td>0.000000</td>\n",
       "      <td>0.000000</td>\n",
       "      <td>0.000000</td>\n",
       "      <td>0.000000</td>\n",
       "      <td>0.000000</td>\n",
       "      <td>0.000000</td>\n",
       "      <td>0.000000</td>\n",
       "      <td>0.000000</td>\n",
       "    </tr>\n",
       "    <tr>\n",
       "      <th>25%</th>\n",
       "      <td>189145.500000</td>\n",
       "      <td>0.000000</td>\n",
       "      <td>1.125000e+05</td>\n",
       "      <td>2.700000e+05</td>\n",
       "      <td>16524.000000</td>\n",
       "      <td>2.385000e+05</td>\n",
       "      <td>0.010006</td>\n",
       "      <td>-19682.000000</td>\n",
       "      <td>-2760.000000</td>\n",
       "      <td>-7479.500000</td>\n",
       "      <td>...</td>\n",
       "      <td>0.000000</td>\n",
       "      <td>0.000000</td>\n",
       "      <td>0.000000</td>\n",
       "      <td>0.000000</td>\n",
       "      <td>0.000000</td>\n",
       "      <td>0.000000</td>\n",
       "      <td>0.000000</td>\n",
       "      <td>0.000000</td>\n",
       "      <td>0.000000</td>\n",
       "      <td>0.000000</td>\n",
       "    </tr>\n",
       "    <tr>\n",
       "      <th>50%</th>\n",
       "      <td>278202.000000</td>\n",
       "      <td>0.000000</td>\n",
       "      <td>1.471500e+05</td>\n",
       "      <td>5.135310e+05</td>\n",
       "      <td>24903.000000</td>\n",
       "      <td>4.500000e+05</td>\n",
       "      <td>0.018850</td>\n",
       "      <td>-15750.000000</td>\n",
       "      <td>-1213.000000</td>\n",
       "      <td>-4504.000000</td>\n",
       "      <td>...</td>\n",
       "      <td>0.000000</td>\n",
       "      <td>0.000000</td>\n",
       "      <td>0.000000</td>\n",
       "      <td>0.000000</td>\n",
       "      <td>0.000000</td>\n",
       "      <td>0.000000</td>\n",
       "      <td>0.000000</td>\n",
       "      <td>0.000000</td>\n",
       "      <td>0.000000</td>\n",
       "      <td>0.000000</td>\n",
       "    </tr>\n",
       "    <tr>\n",
       "      <th>75%</th>\n",
       "      <td>367142.500000</td>\n",
       "      <td>1.000000</td>\n",
       "      <td>2.025000e+05</td>\n",
       "      <td>8.086500e+05</td>\n",
       "      <td>34596.000000</td>\n",
       "      <td>6.795000e+05</td>\n",
       "      <td>0.028663</td>\n",
       "      <td>-12413.000000</td>\n",
       "      <td>-289.000000</td>\n",
       "      <td>-2010.000000</td>\n",
       "      <td>...</td>\n",
       "      <td>0.000000</td>\n",
       "      <td>0.000000</td>\n",
       "      <td>0.000000</td>\n",
       "      <td>0.000000</td>\n",
       "      <td>0.000000</td>\n",
       "      <td>0.000000</td>\n",
       "      <td>0.000000</td>\n",
       "      <td>0.000000</td>\n",
       "      <td>0.000000</td>\n",
       "      <td>0.000000</td>\n",
       "    </tr>\n",
       "    <tr>\n",
       "      <th>max</th>\n",
       "      <td>456255.000000</td>\n",
       "      <td>19.000000</td>\n",
       "      <td>1.170000e+08</td>\n",
       "      <td>4.050000e+06</td>\n",
       "      <td>258025.500000</td>\n",
       "      <td>4.050000e+06</td>\n",
       "      <td>0.072508</td>\n",
       "      <td>-7489.000000</td>\n",
       "      <td>365243.000000</td>\n",
       "      <td>0.000000</td>\n",
       "      <td>...</td>\n",
       "      <td>1.000000</td>\n",
       "      <td>1.000000</td>\n",
       "      <td>1.000000</td>\n",
       "      <td>1.000000</td>\n",
       "      <td>1.000000</td>\n",
       "      <td>1.000000</td>\n",
       "      <td>1.000000</td>\n",
       "      <td>1.000000</td>\n",
       "      <td>1.000000</td>\n",
       "      <td>1.000000</td>\n",
       "    </tr>\n",
       "  </tbody>\n",
       "</table>\n",
       "<p>8 rows × 164 columns</p>\n",
       "</div>"
      ],
      "text/plain": [
       "          SK_ID_CURR   CNT_CHILDREN  AMT_INCOME_TOTAL    AMT_CREDIT  \\\n",
       "count  307511.000000  307511.000000      3.075110e+05  3.075110e+05   \n",
       "mean   278180.518577       0.417052      1.687979e+05  5.990260e+05   \n",
       "std    102790.175348       0.722121      2.371231e+05  4.024908e+05   \n",
       "min    100002.000000       0.000000      2.565000e+04  4.500000e+04   \n",
       "25%    189145.500000       0.000000      1.125000e+05  2.700000e+05   \n",
       "50%    278202.000000       0.000000      1.471500e+05  5.135310e+05   \n",
       "75%    367142.500000       1.000000      2.025000e+05  8.086500e+05   \n",
       "max    456255.000000      19.000000      1.170000e+08  4.050000e+06   \n",
       "\n",
       "         AMT_ANNUITY  AMT_GOODS_PRICE  REGION_POPULATION_RELATIVE  \\\n",
       "count  307511.000000     3.075110e+05               307511.000000   \n",
       "mean    27108.487841     5.383163e+05                    0.020868   \n",
       "std     14493.461065     3.692890e+05                    0.013831   \n",
       "min      1615.500000     4.050000e+04                    0.000290   \n",
       "25%     16524.000000     2.385000e+05                    0.010006   \n",
       "50%     24903.000000     4.500000e+05                    0.018850   \n",
       "75%     34596.000000     6.795000e+05                    0.028663   \n",
       "max    258025.500000     4.050000e+06                    0.072508   \n",
       "\n",
       "          DAYS_BIRTH  DAYS_EMPLOYED  DAYS_REGISTRATION  ...  \\\n",
       "count  307511.000000  307511.000000      307511.000000  ...   \n",
       "mean   -16036.995067   63815.045904       -4986.120328  ...   \n",
       "std      4363.988632  141275.766519        3522.886321  ...   \n",
       "min    -25229.000000  -17912.000000      -24672.000000  ...   \n",
       "25%    -19682.000000   -2760.000000       -7479.500000  ...   \n",
       "50%    -15750.000000   -1213.000000       -4504.000000  ...   \n",
       "75%    -12413.000000    -289.000000       -2010.000000  ...   \n",
       "max     -7489.000000  365243.000000           0.000000  ...   \n",
       "\n",
       "       ORGANIZATION_TYPE_Trade: type 5  ORGANIZATION_TYPE_Trade: type 6  \\\n",
       "count                    307511.000000                    307511.000000   \n",
       "mean                          0.000159                         0.002052   \n",
       "std                           0.012622                         0.045252   \n",
       "min                           0.000000                         0.000000   \n",
       "25%                           0.000000                         0.000000   \n",
       "50%                           0.000000                         0.000000   \n",
       "75%                           0.000000                         0.000000   \n",
       "max                           1.000000                         1.000000   \n",
       "\n",
       "       ORGANIZATION_TYPE_Trade: type 7  ORGANIZATION_TYPE_Transport: type 1  \\\n",
       "count                    307511.000000                        307511.000000   \n",
       "mean                          0.025466                             0.000654   \n",
       "std                           0.157535                             0.025558   \n",
       "min                           0.000000                             0.000000   \n",
       "25%                           0.000000                             0.000000   \n",
       "50%                           0.000000                             0.000000   \n",
       "75%                           0.000000                             0.000000   \n",
       "max                           1.000000                             1.000000   \n",
       "\n",
       "       ORGANIZATION_TYPE_Transport: type 2  \\\n",
       "count                        307511.000000   \n",
       "mean                              0.007167   \n",
       "std                               0.084356   \n",
       "min                               0.000000   \n",
       "25%                               0.000000   \n",
       "50%                               0.000000   \n",
       "75%                               0.000000   \n",
       "max                               1.000000   \n",
       "\n",
       "       ORGANIZATION_TYPE_Transport: type 3  \\\n",
       "count                        307511.000000   \n",
       "mean                              0.003860   \n",
       "std                               0.062009   \n",
       "min                               0.000000   \n",
       "25%                               0.000000   \n",
       "50%                               0.000000   \n",
       "75%                               0.000000   \n",
       "max                               1.000000   \n",
       "\n",
       "       ORGANIZATION_TYPE_Transport: type 4  ORGANIZATION_TYPE_University  \\\n",
       "count                        307511.000000                 307511.000000   \n",
       "mean                              0.017554                      0.004315   \n",
       "std                               0.131323                      0.065549   \n",
       "min                               0.000000                      0.000000   \n",
       "25%                               0.000000                      0.000000   \n",
       "50%                               0.000000                      0.000000   \n",
       "75%                               0.000000                      0.000000   \n",
       "max                               1.000000                      1.000000   \n",
       "\n",
       "       ORGANIZATION_TYPE_XNA         TARGET  \n",
       "count          307511.000000  307511.000000  \n",
       "mean                0.180072       0.080729  \n",
       "std                 0.384248       0.272419  \n",
       "min                 0.000000       0.000000  \n",
       "25%                 0.000000       0.000000  \n",
       "50%                 0.000000       0.000000  \n",
       "75%                 0.000000       0.000000  \n",
       "max                 1.000000       1.000000  \n",
       "\n",
       "[8 rows x 164 columns]"
      ]
     },
     "execution_count": 86,
     "metadata": {},
     "output_type": "execute_result"
    }
   ],
   "source": [
    "app_train_encoded.describe()"
   ]
  },
  {
   "cell_type": "code",
   "execution_count": 87,
   "id": "a51f329c-7c15-4e5a-bba7-3d677997a040",
   "metadata": {},
   "outputs": [
    {
     "data": {
      "text/html": [
       "<div>\n",
       "<style scoped>\n",
       "    .dataframe tbody tr th:only-of-type {\n",
       "        vertical-align: middle;\n",
       "    }\n",
       "\n",
       "    .dataframe tbody tr th {\n",
       "        vertical-align: top;\n",
       "    }\n",
       "\n",
       "    .dataframe thead th {\n",
       "        text-align: right;\n",
       "    }\n",
       "</style>\n",
       "<table border=\"1\" class=\"dataframe\">\n",
       "  <thead>\n",
       "    <tr style=\"text-align: right;\">\n",
       "      <th></th>\n",
       "      <th>SK_ID_CURR</th>\n",
       "      <th>CNT_CHILDREN</th>\n",
       "      <th>AMT_INCOME_TOTAL</th>\n",
       "      <th>AMT_CREDIT</th>\n",
       "      <th>AMT_ANNUITY</th>\n",
       "      <th>AMT_GOODS_PRICE</th>\n",
       "      <th>REGION_POPULATION_RELATIVE</th>\n",
       "      <th>DAYS_BIRTH</th>\n",
       "      <th>DAYS_EMPLOYED</th>\n",
       "      <th>DAYS_REGISTRATION</th>\n",
       "      <th>...</th>\n",
       "      <th>ORGANIZATION_TYPE_Trade: type 4</th>\n",
       "      <th>ORGANIZATION_TYPE_Trade: type 5</th>\n",
       "      <th>ORGANIZATION_TYPE_Trade: type 6</th>\n",
       "      <th>ORGANIZATION_TYPE_Trade: type 7</th>\n",
       "      <th>ORGANIZATION_TYPE_Transport: type 1</th>\n",
       "      <th>ORGANIZATION_TYPE_Transport: type 2</th>\n",
       "      <th>ORGANIZATION_TYPE_Transport: type 3</th>\n",
       "      <th>ORGANIZATION_TYPE_Transport: type 4</th>\n",
       "      <th>ORGANIZATION_TYPE_University</th>\n",
       "      <th>ORGANIZATION_TYPE_XNA</th>\n",
       "    </tr>\n",
       "  </thead>\n",
       "  <tbody>\n",
       "    <tr>\n",
       "      <th>count</th>\n",
       "      <td>48744.000000</td>\n",
       "      <td>48744.000000</td>\n",
       "      <td>4.874400e+04</td>\n",
       "      <td>4.874400e+04</td>\n",
       "      <td>48744.000000</td>\n",
       "      <td>4.874400e+04</td>\n",
       "      <td>48744.000000</td>\n",
       "      <td>48744.000000</td>\n",
       "      <td>48744.000000</td>\n",
       "      <td>48744.000000</td>\n",
       "      <td>...</td>\n",
       "      <td>48744.000000</td>\n",
       "      <td>48744.000000</td>\n",
       "      <td>48744.000000</td>\n",
       "      <td>48744.000000</td>\n",
       "      <td>48744.000000</td>\n",
       "      <td>48744.000000</td>\n",
       "      <td>48744.000000</td>\n",
       "      <td>48744.000000</td>\n",
       "      <td>48744.000000</td>\n",
       "      <td>48744.000000</td>\n",
       "    </tr>\n",
       "    <tr>\n",
       "      <th>mean</th>\n",
       "      <td>277796.676350</td>\n",
       "      <td>0.397054</td>\n",
       "      <td>1.784318e+05</td>\n",
       "      <td>5.167404e+05</td>\n",
       "      <td>29424.651219</td>\n",
       "      <td>4.626188e+05</td>\n",
       "      <td>0.021226</td>\n",
       "      <td>-16068.084605</td>\n",
       "      <td>67485.366322</td>\n",
       "      <td>-4967.652716</td>\n",
       "      <td>...</td>\n",
       "      <td>0.000287</td>\n",
       "      <td>0.000185</td>\n",
       "      <td>0.002503</td>\n",
       "      <td>0.026731</td>\n",
       "      <td>0.000718</td>\n",
       "      <td>0.009191</td>\n",
       "      <td>0.003570</td>\n",
       "      <td>0.018136</td>\n",
       "      <td>0.004534</td>\n",
       "      <td>0.190259</td>\n",
       "    </tr>\n",
       "    <tr>\n",
       "      <th>std</th>\n",
       "      <td>103169.547296</td>\n",
       "      <td>0.709047</td>\n",
       "      <td>1.015226e+05</td>\n",
       "      <td>3.653970e+05</td>\n",
       "      <td>16012.584824</td>\n",
       "      <td>3.367102e+05</td>\n",
       "      <td>0.014428</td>\n",
       "      <td>4325.900393</td>\n",
       "      <td>144348.507136</td>\n",
       "      <td>3552.612035</td>\n",
       "      <td>...</td>\n",
       "      <td>0.016945</td>\n",
       "      <td>0.013587</td>\n",
       "      <td>0.049967</td>\n",
       "      <td>0.161299</td>\n",
       "      <td>0.026787</td>\n",
       "      <td>0.095428</td>\n",
       "      <td>0.059641</td>\n",
       "      <td>0.133443</td>\n",
       "      <td>0.067182</td>\n",
       "      <td>0.392510</td>\n",
       "    </tr>\n",
       "    <tr>\n",
       "      <th>min</th>\n",
       "      <td>100001.000000</td>\n",
       "      <td>0.000000</td>\n",
       "      <td>2.694150e+04</td>\n",
       "      <td>4.500000e+04</td>\n",
       "      <td>2295.000000</td>\n",
       "      <td>4.500000e+04</td>\n",
       "      <td>0.000253</td>\n",
       "      <td>-25195.000000</td>\n",
       "      <td>-17463.000000</td>\n",
       "      <td>-23722.000000</td>\n",
       "      <td>...</td>\n",
       "      <td>0.000000</td>\n",
       "      <td>0.000000</td>\n",
       "      <td>0.000000</td>\n",
       "      <td>0.000000</td>\n",
       "      <td>0.000000</td>\n",
       "      <td>0.000000</td>\n",
       "      <td>0.000000</td>\n",
       "      <td>0.000000</td>\n",
       "      <td>0.000000</td>\n",
       "      <td>0.000000</td>\n",
       "    </tr>\n",
       "    <tr>\n",
       "      <th>25%</th>\n",
       "      <td>188557.750000</td>\n",
       "      <td>0.000000</td>\n",
       "      <td>1.125000e+05</td>\n",
       "      <td>2.606400e+05</td>\n",
       "      <td>17973.000000</td>\n",
       "      <td>2.250000e+05</td>\n",
       "      <td>0.010006</td>\n",
       "      <td>-19637.000000</td>\n",
       "      <td>-2910.000000</td>\n",
       "      <td>-7459.250000</td>\n",
       "      <td>...</td>\n",
       "      <td>0.000000</td>\n",
       "      <td>0.000000</td>\n",
       "      <td>0.000000</td>\n",
       "      <td>0.000000</td>\n",
       "      <td>0.000000</td>\n",
       "      <td>0.000000</td>\n",
       "      <td>0.000000</td>\n",
       "      <td>0.000000</td>\n",
       "      <td>0.000000</td>\n",
       "      <td>0.000000</td>\n",
       "    </tr>\n",
       "    <tr>\n",
       "      <th>50%</th>\n",
       "      <td>277549.000000</td>\n",
       "      <td>0.000000</td>\n",
       "      <td>1.575000e+05</td>\n",
       "      <td>4.500000e+05</td>\n",
       "      <td>26199.000000</td>\n",
       "      <td>3.960000e+05</td>\n",
       "      <td>0.018850</td>\n",
       "      <td>-15785.000000</td>\n",
       "      <td>-1293.000000</td>\n",
       "      <td>-4490.000000</td>\n",
       "      <td>...</td>\n",
       "      <td>0.000000</td>\n",
       "      <td>0.000000</td>\n",
       "      <td>0.000000</td>\n",
       "      <td>0.000000</td>\n",
       "      <td>0.000000</td>\n",
       "      <td>0.000000</td>\n",
       "      <td>0.000000</td>\n",
       "      <td>0.000000</td>\n",
       "      <td>0.000000</td>\n",
       "      <td>0.000000</td>\n",
       "    </tr>\n",
       "    <tr>\n",
       "      <th>75%</th>\n",
       "      <td>367555.500000</td>\n",
       "      <td>1.000000</td>\n",
       "      <td>2.250000e+05</td>\n",
       "      <td>6.750000e+05</td>\n",
       "      <td>37390.500000</td>\n",
       "      <td>6.300000e+05</td>\n",
       "      <td>0.028663</td>\n",
       "      <td>-12496.000000</td>\n",
       "      <td>-296.000000</td>\n",
       "      <td>-1901.000000</td>\n",
       "      <td>...</td>\n",
       "      <td>0.000000</td>\n",
       "      <td>0.000000</td>\n",
       "      <td>0.000000</td>\n",
       "      <td>0.000000</td>\n",
       "      <td>0.000000</td>\n",
       "      <td>0.000000</td>\n",
       "      <td>0.000000</td>\n",
       "      <td>0.000000</td>\n",
       "      <td>0.000000</td>\n",
       "      <td>0.000000</td>\n",
       "    </tr>\n",
       "    <tr>\n",
       "      <th>max</th>\n",
       "      <td>456250.000000</td>\n",
       "      <td>20.000000</td>\n",
       "      <td>4.410000e+06</td>\n",
       "      <td>2.245500e+06</td>\n",
       "      <td>180576.000000</td>\n",
       "      <td>2.245500e+06</td>\n",
       "      <td>0.072508</td>\n",
       "      <td>-7338.000000</td>\n",
       "      <td>365243.000000</td>\n",
       "      <td>0.000000</td>\n",
       "      <td>...</td>\n",
       "      <td>1.000000</td>\n",
       "      <td>1.000000</td>\n",
       "      <td>1.000000</td>\n",
       "      <td>1.000000</td>\n",
       "      <td>1.000000</td>\n",
       "      <td>1.000000</td>\n",
       "      <td>1.000000</td>\n",
       "      <td>1.000000</td>\n",
       "      <td>1.000000</td>\n",
       "      <td>1.000000</td>\n",
       "    </tr>\n",
       "  </tbody>\n",
       "</table>\n",
       "<p>8 rows × 163 columns</p>\n",
       "</div>"
      ],
      "text/plain": [
       "          SK_ID_CURR  CNT_CHILDREN  AMT_INCOME_TOTAL    AMT_CREDIT  \\\n",
       "count   48744.000000  48744.000000      4.874400e+04  4.874400e+04   \n",
       "mean   277796.676350      0.397054      1.784318e+05  5.167404e+05   \n",
       "std    103169.547296      0.709047      1.015226e+05  3.653970e+05   \n",
       "min    100001.000000      0.000000      2.694150e+04  4.500000e+04   \n",
       "25%    188557.750000      0.000000      1.125000e+05  2.606400e+05   \n",
       "50%    277549.000000      0.000000      1.575000e+05  4.500000e+05   \n",
       "75%    367555.500000      1.000000      2.250000e+05  6.750000e+05   \n",
       "max    456250.000000     20.000000      4.410000e+06  2.245500e+06   \n",
       "\n",
       "         AMT_ANNUITY  AMT_GOODS_PRICE  REGION_POPULATION_RELATIVE  \\\n",
       "count   48744.000000     4.874400e+04                48744.000000   \n",
       "mean    29424.651219     4.626188e+05                    0.021226   \n",
       "std     16012.584824     3.367102e+05                    0.014428   \n",
       "min      2295.000000     4.500000e+04                    0.000253   \n",
       "25%     17973.000000     2.250000e+05                    0.010006   \n",
       "50%     26199.000000     3.960000e+05                    0.018850   \n",
       "75%     37390.500000     6.300000e+05                    0.028663   \n",
       "max    180576.000000     2.245500e+06                    0.072508   \n",
       "\n",
       "         DAYS_BIRTH  DAYS_EMPLOYED  DAYS_REGISTRATION  ...  \\\n",
       "count  48744.000000   48744.000000       48744.000000  ...   \n",
       "mean  -16068.084605   67485.366322       -4967.652716  ...   \n",
       "std     4325.900393  144348.507136        3552.612035  ...   \n",
       "min   -25195.000000  -17463.000000      -23722.000000  ...   \n",
       "25%   -19637.000000   -2910.000000       -7459.250000  ...   \n",
       "50%   -15785.000000   -1293.000000       -4490.000000  ...   \n",
       "75%   -12496.000000    -296.000000       -1901.000000  ...   \n",
       "max    -7338.000000  365243.000000           0.000000  ...   \n",
       "\n",
       "       ORGANIZATION_TYPE_Trade: type 4  ORGANIZATION_TYPE_Trade: type 5  \\\n",
       "count                     48744.000000                     48744.000000   \n",
       "mean                          0.000287                         0.000185   \n",
       "std                           0.016945                         0.013587   \n",
       "min                           0.000000                         0.000000   \n",
       "25%                           0.000000                         0.000000   \n",
       "50%                           0.000000                         0.000000   \n",
       "75%                           0.000000                         0.000000   \n",
       "max                           1.000000                         1.000000   \n",
       "\n",
       "       ORGANIZATION_TYPE_Trade: type 6  ORGANIZATION_TYPE_Trade: type 7  \\\n",
       "count                     48744.000000                     48744.000000   \n",
       "mean                          0.002503                         0.026731   \n",
       "std                           0.049967                         0.161299   \n",
       "min                           0.000000                         0.000000   \n",
       "25%                           0.000000                         0.000000   \n",
       "50%                           0.000000                         0.000000   \n",
       "75%                           0.000000                         0.000000   \n",
       "max                           1.000000                         1.000000   \n",
       "\n",
       "       ORGANIZATION_TYPE_Transport: type 1  \\\n",
       "count                         48744.000000   \n",
       "mean                              0.000718   \n",
       "std                               0.026787   \n",
       "min                               0.000000   \n",
       "25%                               0.000000   \n",
       "50%                               0.000000   \n",
       "75%                               0.000000   \n",
       "max                               1.000000   \n",
       "\n",
       "       ORGANIZATION_TYPE_Transport: type 2  \\\n",
       "count                         48744.000000   \n",
       "mean                              0.009191   \n",
       "std                               0.095428   \n",
       "min                               0.000000   \n",
       "25%                               0.000000   \n",
       "50%                               0.000000   \n",
       "75%                               0.000000   \n",
       "max                               1.000000   \n",
       "\n",
       "       ORGANIZATION_TYPE_Transport: type 3  \\\n",
       "count                         48744.000000   \n",
       "mean                              0.003570   \n",
       "std                               0.059641   \n",
       "min                               0.000000   \n",
       "25%                               0.000000   \n",
       "50%                               0.000000   \n",
       "75%                               0.000000   \n",
       "max                               1.000000   \n",
       "\n",
       "       ORGANIZATION_TYPE_Transport: type 4  ORGANIZATION_TYPE_University  \\\n",
       "count                         48744.000000                  48744.000000   \n",
       "mean                              0.018136                      0.004534   \n",
       "std                               0.133443                      0.067182   \n",
       "min                               0.000000                      0.000000   \n",
       "25%                               0.000000                      0.000000   \n",
       "50%                               0.000000                      0.000000   \n",
       "75%                               0.000000                      0.000000   \n",
       "max                               1.000000                      1.000000   \n",
       "\n",
       "       ORGANIZATION_TYPE_XNA  \n",
       "count           48744.000000  \n",
       "mean                0.190259  \n",
       "std                 0.392510  \n",
       "min                 0.000000  \n",
       "25%                 0.000000  \n",
       "50%                 0.000000  \n",
       "75%                 0.000000  \n",
       "max                 1.000000  \n",
       "\n",
       "[8 rows x 163 columns]"
      ]
     },
     "execution_count": 87,
     "metadata": {},
     "output_type": "execute_result"
    }
   ],
   "source": [
    "app_test_encoded.describe()"
   ]
  },
  {
   "cell_type": "code",
   "execution_count": 88,
   "id": "783a93fc-f524-440a-8456-b32c3a8d145e",
   "metadata": {},
   "outputs": [],
   "source": [
    "# We can see that the dataset has significant outliers.\n",
    "# the first being CNT_CHILDREN which has a number of 20"
   ]
  },
  {
   "cell_type": "markdown",
   "id": "294340b0-b686-48c0-b354-55a8dcd49ba1",
   "metadata": {},
   "source": [
    "## For Train"
   ]
  },
  {
   "cell_type": "code",
   "execution_count": 90,
   "id": "a6ea9218-4580-4e10-9d1e-d0a81662df97",
   "metadata": {},
   "outputs": [],
   "source": [
    "def iqr(df):\n",
    "    \n",
    "    Q1 = df.quantile(0.25)\n",
    "    Q3 = df.quantile(0.75)\n",
    "    IQR = Q3 - Q1\n",
    "\n",
    "    \n",
    "    lower_bound = Q1 - 1.5 * IQR\n",
    "    upper_bound = Q3 + 1.5 * IQR\n",
    "\n",
    "    df = df.apply(lambda col: col.mask((col < lower_bound[col.name]) | (col > upper_bound[col.name]), col.median()), axis=0)\n",
    "\n",
    "    return df  \n",
    "\n",
    "\n",
    "selected_columns = app_train_encoded.loc[:, 'CNT_CHILDREN':'ORGANIZATION_TYPE_XNA'].columns\n",
    "app_train_encoded[selected_columns] = iqr(app_train_encoded[selected_columns])\n"
   ]
  },
  {
   "cell_type": "code",
   "execution_count": 91,
   "id": "6242f6ba-1832-424c-a7e8-51ef57b7556e",
   "metadata": {},
   "outputs": [],
   "source": [
    "app_train_clean = app_train_encoded.copy()\n"
   ]
  },
  {
   "cell_type": "code",
   "execution_count": 92,
   "id": "78aa3567-43a7-45d5-9a60-bb5136790030",
   "metadata": {},
   "outputs": [
    {
     "data": {
      "text/html": [
       "<div>\n",
       "<style scoped>\n",
       "    .dataframe tbody tr th:only-of-type {\n",
       "        vertical-align: middle;\n",
       "    }\n",
       "\n",
       "    .dataframe tbody tr th {\n",
       "        vertical-align: top;\n",
       "    }\n",
       "\n",
       "    .dataframe thead th {\n",
       "        text-align: right;\n",
       "    }\n",
       "</style>\n",
       "<table border=\"1\" class=\"dataframe\">\n",
       "  <thead>\n",
       "    <tr style=\"text-align: right;\">\n",
       "      <th></th>\n",
       "      <th>SK_ID_CURR</th>\n",
       "      <th>CNT_CHILDREN</th>\n",
       "      <th>AMT_INCOME_TOTAL</th>\n",
       "      <th>AMT_CREDIT</th>\n",
       "      <th>AMT_ANNUITY</th>\n",
       "      <th>AMT_GOODS_PRICE</th>\n",
       "      <th>REGION_POPULATION_RELATIVE</th>\n",
       "      <th>DAYS_BIRTH</th>\n",
       "      <th>DAYS_EMPLOYED</th>\n",
       "      <th>DAYS_REGISTRATION</th>\n",
       "      <th>...</th>\n",
       "      <th>ORGANIZATION_TYPE_Trade: type 5</th>\n",
       "      <th>ORGANIZATION_TYPE_Trade: type 6</th>\n",
       "      <th>ORGANIZATION_TYPE_Trade: type 7</th>\n",
       "      <th>ORGANIZATION_TYPE_Transport: type 1</th>\n",
       "      <th>ORGANIZATION_TYPE_Transport: type 2</th>\n",
       "      <th>ORGANIZATION_TYPE_Transport: type 3</th>\n",
       "      <th>ORGANIZATION_TYPE_Transport: type 4</th>\n",
       "      <th>ORGANIZATION_TYPE_University</th>\n",
       "      <th>ORGANIZATION_TYPE_XNA</th>\n",
       "      <th>TARGET</th>\n",
       "    </tr>\n",
       "  </thead>\n",
       "  <tbody>\n",
       "    <tr>\n",
       "      <th>count</th>\n",
       "      <td>307511.000000</td>\n",
       "      <td>307511.000000</td>\n",
       "      <td>307511.000000</td>\n",
       "      <td>3.075110e+05</td>\n",
       "      <td>307511.000000</td>\n",
       "      <td>3.075110e+05</td>\n",
       "      <td>307511.000000</td>\n",
       "      <td>307511.000000</td>\n",
       "      <td>307511.000000</td>\n",
       "      <td>307511.000000</td>\n",
       "      <td>...</td>\n",
       "      <td>307511.0</td>\n",
       "      <td>307511.0</td>\n",
       "      <td>307511.0</td>\n",
       "      <td>307511.0</td>\n",
       "      <td>307511.0</td>\n",
       "      <td>307511.0</td>\n",
       "      <td>307511.0</td>\n",
       "      <td>307511.0</td>\n",
       "      <td>307511.0</td>\n",
       "      <td>307511.000000</td>\n",
       "    </tr>\n",
       "    <tr>\n",
       "      <th>mean</th>\n",
       "      <td>278180.518577</td>\n",
       "      <td>0.372725</td>\n",
       "      <td>153939.251340</td>\n",
       "      <td>5.687740e+05</td>\n",
       "      <td>25899.625197</td>\n",
       "      <td>4.851816e+05</td>\n",
       "      <td>0.019400</td>\n",
       "      <td>-16036.995067</td>\n",
       "      <td>-1749.619175</td>\n",
       "      <td>-4959.554179</td>\n",
       "      <td>...</td>\n",
       "      <td>0.0</td>\n",
       "      <td>0.0</td>\n",
       "      <td>0.0</td>\n",
       "      <td>0.0</td>\n",
       "      <td>0.0</td>\n",
       "      <td>0.0</td>\n",
       "      <td>0.0</td>\n",
       "      <td>0.0</td>\n",
       "      <td>0.0</td>\n",
       "      <td>0.080729</td>\n",
       "    </tr>\n",
       "    <tr>\n",
       "      <th>std</th>\n",
       "      <td>102790.175348</td>\n",
       "      <td>0.638571</td>\n",
       "      <td>62554.665158</td>\n",
       "      <td>3.490408e+05</td>\n",
       "      <td>12080.581103</td>\n",
       "      <td>2.835089e+05</td>\n",
       "      <td>0.010785</td>\n",
       "      <td>4363.988632</td>\n",
       "      <td>1343.677616</td>\n",
       "      <td>3478.834072</td>\n",
       "      <td>...</td>\n",
       "      <td>0.0</td>\n",
       "      <td>0.0</td>\n",
       "      <td>0.0</td>\n",
       "      <td>0.0</td>\n",
       "      <td>0.0</td>\n",
       "      <td>0.0</td>\n",
       "      <td>0.0</td>\n",
       "      <td>0.0</td>\n",
       "      <td>0.0</td>\n",
       "      <td>0.272419</td>\n",
       "    </tr>\n",
       "    <tr>\n",
       "      <th>min</th>\n",
       "      <td>100002.000000</td>\n",
       "      <td>0.000000</td>\n",
       "      <td>25650.000000</td>\n",
       "      <td>4.500000e+04</td>\n",
       "      <td>1615.500000</td>\n",
       "      <td>4.050000e+04</td>\n",
       "      <td>0.000290</td>\n",
       "      <td>-25229.000000</td>\n",
       "      <td>-6466.000000</td>\n",
       "      <td>-15680.000000</td>\n",
       "      <td>...</td>\n",
       "      <td>0.0</td>\n",
       "      <td>0.0</td>\n",
       "      <td>0.0</td>\n",
       "      <td>0.0</td>\n",
       "      <td>0.0</td>\n",
       "      <td>0.0</td>\n",
       "      <td>0.0</td>\n",
       "      <td>0.0</td>\n",
       "      <td>0.0</td>\n",
       "      <td>0.000000</td>\n",
       "    </tr>\n",
       "    <tr>\n",
       "      <th>25%</th>\n",
       "      <td>189145.500000</td>\n",
       "      <td>0.000000</td>\n",
       "      <td>112500.000000</td>\n",
       "      <td>2.700000e+05</td>\n",
       "      <td>16524.000000</td>\n",
       "      <td>2.385000e+05</td>\n",
       "      <td>0.010006</td>\n",
       "      <td>-19682.000000</td>\n",
       "      <td>-2327.000000</td>\n",
       "      <td>-7447.000000</td>\n",
       "      <td>...</td>\n",
       "      <td>0.0</td>\n",
       "      <td>0.0</td>\n",
       "      <td>0.0</td>\n",
       "      <td>0.0</td>\n",
       "      <td>0.0</td>\n",
       "      <td>0.0</td>\n",
       "      <td>0.0</td>\n",
       "      <td>0.0</td>\n",
       "      <td>0.0</td>\n",
       "      <td>0.000000</td>\n",
       "    </tr>\n",
       "    <tr>\n",
       "      <th>50%</th>\n",
       "      <td>278202.000000</td>\n",
       "      <td>0.000000</td>\n",
       "      <td>147150.000000</td>\n",
       "      <td>5.135310e+05</td>\n",
       "      <td>24903.000000</td>\n",
       "      <td>4.500000e+05</td>\n",
       "      <td>0.018850</td>\n",
       "      <td>-15750.000000</td>\n",
       "      <td>-1213.000000</td>\n",
       "      <td>-4504.000000</td>\n",
       "      <td>...</td>\n",
       "      <td>0.0</td>\n",
       "      <td>0.0</td>\n",
       "      <td>0.0</td>\n",
       "      <td>0.0</td>\n",
       "      <td>0.0</td>\n",
       "      <td>0.0</td>\n",
       "      <td>0.0</td>\n",
       "      <td>0.0</td>\n",
       "      <td>0.0</td>\n",
       "      <td>0.000000</td>\n",
       "    </tr>\n",
       "    <tr>\n",
       "      <th>75%</th>\n",
       "      <td>367142.500000</td>\n",
       "      <td>1.000000</td>\n",
       "      <td>189000.000000</td>\n",
       "      <td>7.819200e+05</td>\n",
       "      <td>33075.000000</td>\n",
       "      <td>6.750000e+05</td>\n",
       "      <td>0.026392</td>\n",
       "      <td>-12413.000000</td>\n",
       "      <td>-933.000000</td>\n",
       "      <td>-2010.000000</td>\n",
       "      <td>...</td>\n",
       "      <td>0.0</td>\n",
       "      <td>0.0</td>\n",
       "      <td>0.0</td>\n",
       "      <td>0.0</td>\n",
       "      <td>0.0</td>\n",
       "      <td>0.0</td>\n",
       "      <td>0.0</td>\n",
       "      <td>0.0</td>\n",
       "      <td>0.0</td>\n",
       "      <td>0.000000</td>\n",
       "    </tr>\n",
       "    <tr>\n",
       "      <th>max</th>\n",
       "      <td>456255.000000</td>\n",
       "      <td>2.000000</td>\n",
       "      <td>337500.000000</td>\n",
       "      <td>1.616278e+06</td>\n",
       "      <td>61699.500000</td>\n",
       "      <td>1.341000e+06</td>\n",
       "      <td>0.046220</td>\n",
       "      <td>-7489.000000</td>\n",
       "      <td>0.000000</td>\n",
       "      <td>0.000000</td>\n",
       "      <td>...</td>\n",
       "      <td>0.0</td>\n",
       "      <td>0.0</td>\n",
       "      <td>0.0</td>\n",
       "      <td>0.0</td>\n",
       "      <td>0.0</td>\n",
       "      <td>0.0</td>\n",
       "      <td>0.0</td>\n",
       "      <td>0.0</td>\n",
       "      <td>0.0</td>\n",
       "      <td>1.000000</td>\n",
       "    </tr>\n",
       "  </tbody>\n",
       "</table>\n",
       "<p>8 rows × 164 columns</p>\n",
       "</div>"
      ],
      "text/plain": [
       "          SK_ID_CURR   CNT_CHILDREN  AMT_INCOME_TOTAL    AMT_CREDIT  \\\n",
       "count  307511.000000  307511.000000     307511.000000  3.075110e+05   \n",
       "mean   278180.518577       0.372725     153939.251340  5.687740e+05   \n",
       "std    102790.175348       0.638571      62554.665158  3.490408e+05   \n",
       "min    100002.000000       0.000000      25650.000000  4.500000e+04   \n",
       "25%    189145.500000       0.000000     112500.000000  2.700000e+05   \n",
       "50%    278202.000000       0.000000     147150.000000  5.135310e+05   \n",
       "75%    367142.500000       1.000000     189000.000000  7.819200e+05   \n",
       "max    456255.000000       2.000000     337500.000000  1.616278e+06   \n",
       "\n",
       "         AMT_ANNUITY  AMT_GOODS_PRICE  REGION_POPULATION_RELATIVE  \\\n",
       "count  307511.000000     3.075110e+05               307511.000000   \n",
       "mean    25899.625197     4.851816e+05                    0.019400   \n",
       "std     12080.581103     2.835089e+05                    0.010785   \n",
       "min      1615.500000     4.050000e+04                    0.000290   \n",
       "25%     16524.000000     2.385000e+05                    0.010006   \n",
       "50%     24903.000000     4.500000e+05                    0.018850   \n",
       "75%     33075.000000     6.750000e+05                    0.026392   \n",
       "max     61699.500000     1.341000e+06                    0.046220   \n",
       "\n",
       "          DAYS_BIRTH  DAYS_EMPLOYED  DAYS_REGISTRATION  ...  \\\n",
       "count  307511.000000  307511.000000      307511.000000  ...   \n",
       "mean   -16036.995067   -1749.619175       -4959.554179  ...   \n",
       "std      4363.988632    1343.677616        3478.834072  ...   \n",
       "min    -25229.000000   -6466.000000      -15680.000000  ...   \n",
       "25%    -19682.000000   -2327.000000       -7447.000000  ...   \n",
       "50%    -15750.000000   -1213.000000       -4504.000000  ...   \n",
       "75%    -12413.000000    -933.000000       -2010.000000  ...   \n",
       "max     -7489.000000       0.000000           0.000000  ...   \n",
       "\n",
       "       ORGANIZATION_TYPE_Trade: type 5  ORGANIZATION_TYPE_Trade: type 6  \\\n",
       "count                         307511.0                         307511.0   \n",
       "mean                               0.0                              0.0   \n",
       "std                                0.0                              0.0   \n",
       "min                                0.0                              0.0   \n",
       "25%                                0.0                              0.0   \n",
       "50%                                0.0                              0.0   \n",
       "75%                                0.0                              0.0   \n",
       "max                                0.0                              0.0   \n",
       "\n",
       "       ORGANIZATION_TYPE_Trade: type 7  ORGANIZATION_TYPE_Transport: type 1  \\\n",
       "count                         307511.0                             307511.0   \n",
       "mean                               0.0                                  0.0   \n",
       "std                                0.0                                  0.0   \n",
       "min                                0.0                                  0.0   \n",
       "25%                                0.0                                  0.0   \n",
       "50%                                0.0                                  0.0   \n",
       "75%                                0.0                                  0.0   \n",
       "max                                0.0                                  0.0   \n",
       "\n",
       "       ORGANIZATION_TYPE_Transport: type 2  \\\n",
       "count                             307511.0   \n",
       "mean                                   0.0   \n",
       "std                                    0.0   \n",
       "min                                    0.0   \n",
       "25%                                    0.0   \n",
       "50%                                    0.0   \n",
       "75%                                    0.0   \n",
       "max                                    0.0   \n",
       "\n",
       "       ORGANIZATION_TYPE_Transport: type 3  \\\n",
       "count                             307511.0   \n",
       "mean                                   0.0   \n",
       "std                                    0.0   \n",
       "min                                    0.0   \n",
       "25%                                    0.0   \n",
       "50%                                    0.0   \n",
       "75%                                    0.0   \n",
       "max                                    0.0   \n",
       "\n",
       "       ORGANIZATION_TYPE_Transport: type 4  ORGANIZATION_TYPE_University  \\\n",
       "count                             307511.0                      307511.0   \n",
       "mean                                   0.0                           0.0   \n",
       "std                                    0.0                           0.0   \n",
       "min                                    0.0                           0.0   \n",
       "25%                                    0.0                           0.0   \n",
       "50%                                    0.0                           0.0   \n",
       "75%                                    0.0                           0.0   \n",
       "max                                    0.0                           0.0   \n",
       "\n",
       "       ORGANIZATION_TYPE_XNA         TARGET  \n",
       "count               307511.0  307511.000000  \n",
       "mean                     0.0       0.080729  \n",
       "std                      0.0       0.272419  \n",
       "min                      0.0       0.000000  \n",
       "25%                      0.0       0.000000  \n",
       "50%                      0.0       0.000000  \n",
       "75%                      0.0       0.000000  \n",
       "max                      0.0       1.000000  \n",
       "\n",
       "[8 rows x 164 columns]"
      ]
     },
     "execution_count": 92,
     "metadata": {},
     "output_type": "execute_result"
    }
   ],
   "source": [
    "app_train_clean.describe()"
   ]
  },
  {
   "cell_type": "code",
   "execution_count": 93,
   "id": "498acc0f-d928-4918-b19a-49c8f7ca52b7",
   "metadata": {},
   "outputs": [
    {
     "data": {
      "text/plain": [
       "(307511, 164)"
      ]
     },
     "execution_count": 93,
     "metadata": {},
     "output_type": "execute_result"
    }
   ],
   "source": [
    "app_train_clean.shape"
   ]
  },
  {
   "cell_type": "markdown",
   "id": "1ec255b5-d12b-459f-b417-10df417f483f",
   "metadata": {},
   "source": [
    "## For Test\n"
   ]
  },
  {
   "cell_type": "code",
   "execution_count": 95,
   "id": "02a9c908-a9cf-46a4-9eb2-64964ee2c69c",
   "metadata": {},
   "outputs": [],
   "source": [
    "selected_columns = app_test_encoded.loc[:, 'CNT_CHILDREN':'ORGANIZATION_TYPE_XNA'].columns\n",
    "app_test_encoded[selected_columns] = iqr(app_test_encoded[selected_columns])"
   ]
  },
  {
   "cell_type": "code",
   "execution_count": 96,
   "id": "c19c1859-98c4-41db-b768-378b8835bd08",
   "metadata": {},
   "outputs": [],
   "source": [
    "app_test_clean = app_test_encoded.copy()\n"
   ]
  },
  {
   "cell_type": "code",
   "execution_count": 97,
   "id": "1919f3d2-3c2d-4edc-b017-06cd76fe2147",
   "metadata": {},
   "outputs": [
    {
     "data": {
      "text/html": [
       "<div>\n",
       "<style scoped>\n",
       "    .dataframe tbody tr th:only-of-type {\n",
       "        vertical-align: middle;\n",
       "    }\n",
       "\n",
       "    .dataframe tbody tr th {\n",
       "        vertical-align: top;\n",
       "    }\n",
       "\n",
       "    .dataframe thead th {\n",
       "        text-align: right;\n",
       "    }\n",
       "</style>\n",
       "<table border=\"1\" class=\"dataframe\">\n",
       "  <thead>\n",
       "    <tr style=\"text-align: right;\">\n",
       "      <th></th>\n",
       "      <th>SK_ID_CURR</th>\n",
       "      <th>CNT_CHILDREN</th>\n",
       "      <th>AMT_INCOME_TOTAL</th>\n",
       "      <th>AMT_CREDIT</th>\n",
       "      <th>AMT_ANNUITY</th>\n",
       "      <th>AMT_GOODS_PRICE</th>\n",
       "      <th>REGION_POPULATION_RELATIVE</th>\n",
       "      <th>DAYS_BIRTH</th>\n",
       "      <th>DAYS_EMPLOYED</th>\n",
       "      <th>DAYS_REGISTRATION</th>\n",
       "      <th>...</th>\n",
       "      <th>ORGANIZATION_TYPE_Trade: type 4</th>\n",
       "      <th>ORGANIZATION_TYPE_Trade: type 5</th>\n",
       "      <th>ORGANIZATION_TYPE_Trade: type 6</th>\n",
       "      <th>ORGANIZATION_TYPE_Trade: type 7</th>\n",
       "      <th>ORGANIZATION_TYPE_Transport: type 1</th>\n",
       "      <th>ORGANIZATION_TYPE_Transport: type 2</th>\n",
       "      <th>ORGANIZATION_TYPE_Transport: type 3</th>\n",
       "      <th>ORGANIZATION_TYPE_Transport: type 4</th>\n",
       "      <th>ORGANIZATION_TYPE_University</th>\n",
       "      <th>ORGANIZATION_TYPE_XNA</th>\n",
       "    </tr>\n",
       "  </thead>\n",
       "  <tbody>\n",
       "    <tr>\n",
       "      <th>count</th>\n",
       "      <td>48744.000000</td>\n",
       "      <td>48744.000000</td>\n",
       "      <td>48744.000000</td>\n",
       "      <td>4.874400e+04</td>\n",
       "      <td>48744.000000</td>\n",
       "      <td>4.874400e+04</td>\n",
       "      <td>48744.000000</td>\n",
       "      <td>48744.000000</td>\n",
       "      <td>48744.000000</td>\n",
       "      <td>48744.000000</td>\n",
       "      <td>...</td>\n",
       "      <td>48744.0</td>\n",
       "      <td>48744.0</td>\n",
       "      <td>48744.0</td>\n",
       "      <td>48744.0</td>\n",
       "      <td>48744.0</td>\n",
       "      <td>48744.0</td>\n",
       "      <td>48744.0</td>\n",
       "      <td>48744.0</td>\n",
       "      <td>48744.0</td>\n",
       "      <td>48744.0</td>\n",
       "    </tr>\n",
       "    <tr>\n",
       "      <th>mean</th>\n",
       "      <td>277796.676350</td>\n",
       "      <td>0.357008</td>\n",
       "      <td>166591.874633</td>\n",
       "      <td>4.592227e+05</td>\n",
       "      <td>28086.295606</td>\n",
       "      <td>4.119470e+05</td>\n",
       "      <td>0.019503</td>\n",
       "      <td>-16068.084605</td>\n",
       "      <td>-1872.547534</td>\n",
       "      <td>-4939.652962</td>\n",
       "      <td>...</td>\n",
       "      <td>0.0</td>\n",
       "      <td>0.0</td>\n",
       "      <td>0.0</td>\n",
       "      <td>0.0</td>\n",
       "      <td>0.0</td>\n",
       "      <td>0.0</td>\n",
       "      <td>0.0</td>\n",
       "      <td>0.0</td>\n",
       "      <td>0.0</td>\n",
       "      <td>0.0</td>\n",
       "    </tr>\n",
       "    <tr>\n",
       "      <th>std</th>\n",
       "      <td>103169.547296</td>\n",
       "      <td>0.625773</td>\n",
       "      <td>69296.593307</td>\n",
       "      <td>2.575527e+05</td>\n",
       "      <td>13431.398162</td>\n",
       "      <td>2.380666e+05</td>\n",
       "      <td>0.010998</td>\n",
       "      <td>4325.900393</td>\n",
       "      <td>1398.009348</td>\n",
       "      <td>3506.079628</td>\n",
       "      <td>...</td>\n",
       "      <td>0.0</td>\n",
       "      <td>0.0</td>\n",
       "      <td>0.0</td>\n",
       "      <td>0.0</td>\n",
       "      <td>0.0</td>\n",
       "      <td>0.0</td>\n",
       "      <td>0.0</td>\n",
       "      <td>0.0</td>\n",
       "      <td>0.0</td>\n",
       "      <td>0.0</td>\n",
       "    </tr>\n",
       "    <tr>\n",
       "      <th>min</th>\n",
       "      <td>100001.000000</td>\n",
       "      <td>0.000000</td>\n",
       "      <td>26941.500000</td>\n",
       "      <td>4.500000e+04</td>\n",
       "      <td>2295.000000</td>\n",
       "      <td>4.500000e+04</td>\n",
       "      <td>0.000253</td>\n",
       "      <td>-25195.000000</td>\n",
       "      <td>-6829.000000</td>\n",
       "      <td>-15793.000000</td>\n",
       "      <td>...</td>\n",
       "      <td>0.0</td>\n",
       "      <td>0.0</td>\n",
       "      <td>0.0</td>\n",
       "      <td>0.0</td>\n",
       "      <td>0.0</td>\n",
       "      <td>0.0</td>\n",
       "      <td>0.0</td>\n",
       "      <td>0.0</td>\n",
       "      <td>0.0</td>\n",
       "      <td>0.0</td>\n",
       "    </tr>\n",
       "    <tr>\n",
       "      <th>25%</th>\n",
       "      <td>188557.750000</td>\n",
       "      <td>0.000000</td>\n",
       "      <td>112500.000000</td>\n",
       "      <td>2.606400e+05</td>\n",
       "      <td>17973.000000</td>\n",
       "      <td>2.250000e+05</td>\n",
       "      <td>0.010006</td>\n",
       "      <td>-19637.000000</td>\n",
       "      <td>-2515.000000</td>\n",
       "      <td>-7431.000000</td>\n",
       "      <td>...</td>\n",
       "      <td>0.0</td>\n",
       "      <td>0.0</td>\n",
       "      <td>0.0</td>\n",
       "      <td>0.0</td>\n",
       "      <td>0.0</td>\n",
       "      <td>0.0</td>\n",
       "      <td>0.0</td>\n",
       "      <td>0.0</td>\n",
       "      <td>0.0</td>\n",
       "      <td>0.0</td>\n",
       "    </tr>\n",
       "    <tr>\n",
       "      <th>50%</th>\n",
       "      <td>277549.000000</td>\n",
       "      <td>0.000000</td>\n",
       "      <td>157500.000000</td>\n",
       "      <td>4.500000e+05</td>\n",
       "      <td>26199.000000</td>\n",
       "      <td>3.960000e+05</td>\n",
       "      <td>0.018850</td>\n",
       "      <td>-15785.000000</td>\n",
       "      <td>-1293.000000</td>\n",
       "      <td>-4490.000000</td>\n",
       "      <td>...</td>\n",
       "      <td>0.0</td>\n",
       "      <td>0.0</td>\n",
       "      <td>0.0</td>\n",
       "      <td>0.0</td>\n",
       "      <td>0.0</td>\n",
       "      <td>0.0</td>\n",
       "      <td>0.0</td>\n",
       "      <td>0.0</td>\n",
       "      <td>0.0</td>\n",
       "      <td>0.0</td>\n",
       "    </tr>\n",
       "    <tr>\n",
       "      <th>75%</th>\n",
       "      <td>367555.500000</td>\n",
       "      <td>1.000000</td>\n",
       "      <td>202500.000000</td>\n",
       "      <td>5.997780e+05</td>\n",
       "      <td>35685.000000</td>\n",
       "      <td>5.175000e+05</td>\n",
       "      <td>0.026392</td>\n",
       "      <td>-12496.000000</td>\n",
       "      <td>-1048.000000</td>\n",
       "      <td>-1901.000000</td>\n",
       "      <td>...</td>\n",
       "      <td>0.0</td>\n",
       "      <td>0.0</td>\n",
       "      <td>0.0</td>\n",
       "      <td>0.0</td>\n",
       "      <td>0.0</td>\n",
       "      <td>0.0</td>\n",
       "      <td>0.0</td>\n",
       "      <td>0.0</td>\n",
       "      <td>0.0</td>\n",
       "      <td>0.0</td>\n",
       "    </tr>\n",
       "    <tr>\n",
       "      <th>max</th>\n",
       "      <td>456250.000000</td>\n",
       "      <td>2.000000</td>\n",
       "      <td>393750.000000</td>\n",
       "      <td>1.296000e+06</td>\n",
       "      <td>66415.500000</td>\n",
       "      <td>1.237500e+06</td>\n",
       "      <td>0.046220</td>\n",
       "      <td>-7338.000000</td>\n",
       "      <td>-1.000000</td>\n",
       "      <td>0.000000</td>\n",
       "      <td>...</td>\n",
       "      <td>0.0</td>\n",
       "      <td>0.0</td>\n",
       "      <td>0.0</td>\n",
       "      <td>0.0</td>\n",
       "      <td>0.0</td>\n",
       "      <td>0.0</td>\n",
       "      <td>0.0</td>\n",
       "      <td>0.0</td>\n",
       "      <td>0.0</td>\n",
       "      <td>0.0</td>\n",
       "    </tr>\n",
       "  </tbody>\n",
       "</table>\n",
       "<p>8 rows × 163 columns</p>\n",
       "</div>"
      ],
      "text/plain": [
       "          SK_ID_CURR  CNT_CHILDREN  AMT_INCOME_TOTAL    AMT_CREDIT  \\\n",
       "count   48744.000000  48744.000000      48744.000000  4.874400e+04   \n",
       "mean   277796.676350      0.357008     166591.874633  4.592227e+05   \n",
       "std    103169.547296      0.625773      69296.593307  2.575527e+05   \n",
       "min    100001.000000      0.000000      26941.500000  4.500000e+04   \n",
       "25%    188557.750000      0.000000     112500.000000  2.606400e+05   \n",
       "50%    277549.000000      0.000000     157500.000000  4.500000e+05   \n",
       "75%    367555.500000      1.000000     202500.000000  5.997780e+05   \n",
       "max    456250.000000      2.000000     393750.000000  1.296000e+06   \n",
       "\n",
       "        AMT_ANNUITY  AMT_GOODS_PRICE  REGION_POPULATION_RELATIVE  \\\n",
       "count  48744.000000     4.874400e+04                48744.000000   \n",
       "mean   28086.295606     4.119470e+05                    0.019503   \n",
       "std    13431.398162     2.380666e+05                    0.010998   \n",
       "min     2295.000000     4.500000e+04                    0.000253   \n",
       "25%    17973.000000     2.250000e+05                    0.010006   \n",
       "50%    26199.000000     3.960000e+05                    0.018850   \n",
       "75%    35685.000000     5.175000e+05                    0.026392   \n",
       "max    66415.500000     1.237500e+06                    0.046220   \n",
       "\n",
       "         DAYS_BIRTH  DAYS_EMPLOYED  DAYS_REGISTRATION  ...  \\\n",
       "count  48744.000000   48744.000000       48744.000000  ...   \n",
       "mean  -16068.084605   -1872.547534       -4939.652962  ...   \n",
       "std     4325.900393    1398.009348        3506.079628  ...   \n",
       "min   -25195.000000   -6829.000000      -15793.000000  ...   \n",
       "25%   -19637.000000   -2515.000000       -7431.000000  ...   \n",
       "50%   -15785.000000   -1293.000000       -4490.000000  ...   \n",
       "75%   -12496.000000   -1048.000000       -1901.000000  ...   \n",
       "max    -7338.000000      -1.000000           0.000000  ...   \n",
       "\n",
       "       ORGANIZATION_TYPE_Trade: type 4  ORGANIZATION_TYPE_Trade: type 5  \\\n",
       "count                          48744.0                          48744.0   \n",
       "mean                               0.0                              0.0   \n",
       "std                                0.0                              0.0   \n",
       "min                                0.0                              0.0   \n",
       "25%                                0.0                              0.0   \n",
       "50%                                0.0                              0.0   \n",
       "75%                                0.0                              0.0   \n",
       "max                                0.0                              0.0   \n",
       "\n",
       "       ORGANIZATION_TYPE_Trade: type 6  ORGANIZATION_TYPE_Trade: type 7  \\\n",
       "count                          48744.0                          48744.0   \n",
       "mean                               0.0                              0.0   \n",
       "std                                0.0                              0.0   \n",
       "min                                0.0                              0.0   \n",
       "25%                                0.0                              0.0   \n",
       "50%                                0.0                              0.0   \n",
       "75%                                0.0                              0.0   \n",
       "max                                0.0                              0.0   \n",
       "\n",
       "       ORGANIZATION_TYPE_Transport: type 1  \\\n",
       "count                              48744.0   \n",
       "mean                                   0.0   \n",
       "std                                    0.0   \n",
       "min                                    0.0   \n",
       "25%                                    0.0   \n",
       "50%                                    0.0   \n",
       "75%                                    0.0   \n",
       "max                                    0.0   \n",
       "\n",
       "       ORGANIZATION_TYPE_Transport: type 2  \\\n",
       "count                              48744.0   \n",
       "mean                                   0.0   \n",
       "std                                    0.0   \n",
       "min                                    0.0   \n",
       "25%                                    0.0   \n",
       "50%                                    0.0   \n",
       "75%                                    0.0   \n",
       "max                                    0.0   \n",
       "\n",
       "       ORGANIZATION_TYPE_Transport: type 3  \\\n",
       "count                              48744.0   \n",
       "mean                                   0.0   \n",
       "std                                    0.0   \n",
       "min                                    0.0   \n",
       "25%                                    0.0   \n",
       "50%                                    0.0   \n",
       "75%                                    0.0   \n",
       "max                                    0.0   \n",
       "\n",
       "       ORGANIZATION_TYPE_Transport: type 4  ORGANIZATION_TYPE_University  \\\n",
       "count                              48744.0                       48744.0   \n",
       "mean                                   0.0                           0.0   \n",
       "std                                    0.0                           0.0   \n",
       "min                                    0.0                           0.0   \n",
       "25%                                    0.0                           0.0   \n",
       "50%                                    0.0                           0.0   \n",
       "75%                                    0.0                           0.0   \n",
       "max                                    0.0                           0.0   \n",
       "\n",
       "       ORGANIZATION_TYPE_XNA  \n",
       "count                48744.0  \n",
       "mean                     0.0  \n",
       "std                      0.0  \n",
       "min                      0.0  \n",
       "25%                      0.0  \n",
       "50%                      0.0  \n",
       "75%                      0.0  \n",
       "max                      0.0  \n",
       "\n",
       "[8 rows x 163 columns]"
      ]
     },
     "execution_count": 97,
     "metadata": {},
     "output_type": "execute_result"
    }
   ],
   "source": [
    "app_test_clean.describe()"
   ]
  },
  {
   "cell_type": "code",
   "execution_count": 98,
   "id": "1e136823-d57e-45b4-ad84-cbdba4f74536",
   "metadata": {},
   "outputs": [
    {
     "data": {
      "text/plain": [
       "(48744, 163)"
      ]
     },
     "execution_count": 98,
     "metadata": {},
     "output_type": "execute_result"
    }
   ],
   "source": [
    "app_test_clean.shape"
   ]
  },
  {
   "cell_type": "code",
   "execution_count": null,
   "id": "afe54b98-4fa9-40cb-bcff-f14d0ac7f41d",
   "metadata": {},
   "outputs": [],
   "source": []
  },
  {
   "cell_type": "code",
   "execution_count": null,
   "id": "39ac987a-41da-4744-aa18-9a2010d22e19",
   "metadata": {},
   "outputs": [],
   "source": []
  },
  {
   "cell_type": "markdown",
   "id": "5940f474-f5cc-4fa7-91c0-030dec3dd38e",
   "metadata": {},
   "source": [
    "Initially there was many null values and there were considerable outliers.\n",
    "Null values greater than 50% had their columns removed, whereas the remainder was imputed with the median.\n",
    "\n",
    "Outliers were simply imputed by the median.\n",
    "\n",
    "<br> In the next section: </br>\n",
    "We will look at the correlations of the predictors"
   ]
  },
  {
   "cell_type": "markdown",
   "id": "06d3fff3-2882-4f84-a057-eb9592c41df4",
   "metadata": {},
   "source": [
    "# Correlation Table"
   ]
  },
  {
   "cell_type": "code",
   "execution_count": 101,
   "id": "3ee1a755-2809-448f-a6ab-b130bd104c94",
   "metadata": {},
   "outputs": [],
   "source": [
    "#Now that the null values have been cleaned, It is good to check the top predictors\n",
    "#first we will drop SK_ID_CURR"
   ]
  },
  {
   "cell_type": "code",
   "execution_count": 102,
   "id": "6b5aa1c6-fe99-4279-bd93-c56a32b4a70a",
   "metadata": {},
   "outputs": [],
   "source": [
    "# Removing SK ID CURR from Train"
   ]
  },
  {
   "cell_type": "code",
   "execution_count": 103,
   "id": "2fa4b68d-498b-4a1d-9ac1-67c883efd2f9",
   "metadata": {},
   "outputs": [],
   "source": [
    "app_train_clean.drop(columns = ['SK_ID_CURR'], axis = 1, inplace=True)"
   ]
  },
  {
   "cell_type": "code",
   "execution_count": 104,
   "id": "41d60afd-b80a-485b-89a1-085f5406ccec",
   "metadata": {},
   "outputs": [],
   "source": [
    "# Removing SK ID CURR from Test"
   ]
  },
  {
   "cell_type": "code",
   "execution_count": 105,
   "id": "49b099dc-7d54-4875-9ab7-0cbff2ae6e00",
   "metadata": {},
   "outputs": [],
   "source": [
    "app_test_clean.drop(columns = ['SK_ID_CURR'], axis = 1, inplace=True)"
   ]
  },
  {
   "cell_type": "code",
   "execution_count": 106,
   "id": "24b24b83-9400-4179-bb63-94f154de90b2",
   "metadata": {},
   "outputs": [
    {
     "data": {
      "text/plain": [
       "CNT_CHILDREN        0.016209\n",
       "AMT_INCOME_TOTAL   -0.014807\n",
       "AMT_CREDIT         -0.022309\n",
       "AMT_ANNUITY         0.000244\n",
       "AMT_GOODS_PRICE    -0.023858\n",
       "Name: TARGET, dtype: float64"
      ]
     },
     "execution_count": 106,
     "metadata": {},
     "output_type": "execute_result"
    }
   ],
   "source": [
    "correlations_final = app_train_clean.corr()['TARGET']\n",
    "correlations_final.head()"
   ]
  },
  {
   "cell_type": "code",
   "execution_count": 107,
   "id": "9603c1d8-e055-4c7c-92be-fdee9bfa422b",
   "metadata": {},
   "outputs": [
    {
     "name": "stdout",
     "output_type": "stream",
     "text": [
      "The top 5 positive predictors are: \n",
      " \n",
      " \n",
      "TARGET                      1.000000\n",
      "DAYS_BIRTH                  0.078239\n",
      "NAME_INCOME_TYPE_Working    0.057481\n",
      "DAYS_LAST_PHONE_CHANGE      0.054964\n",
      "CODE_GENDER_M               0.054713\n",
      "DAYS_ID_PUBLISH             0.051457\n",
      "Name: TARGET, dtype: float64\n",
      "\n",
      "\n",
      "The top 5 negative predictors are: \n",
      " \n",
      " \n",
      "EXT_SOURCE_2                 -0.160295\n",
      "EXT_SOURCE_3                 -0.135996\n",
      "CODE_GENDER_F                -0.054704\n",
      "REGION_POPULATION_RELATIVE   -0.027247\n",
      "NAME_FAMILY_STATUS_Married   -0.025043\n",
      "Name: TARGET, dtype: float64\n"
     ]
    }
   ],
   "source": [
    "top_5_positive = correlations_final.nlargest(6)\n",
    "print(f'The top 5 positive predictors are: \\n \\n \\n{top_5_positive}')\n",
    "\n",
    "print('\\n')\n",
    "\n",
    "top_5_negative = correlations_final.nsmallest(5)\n",
    "print(f'The top 5 negative predictors are: \\n \\n \\n{top_5_negative}')\n",
    "\n"
   ]
  },
  {
   "cell_type": "code",
   "execution_count": 108,
   "id": "289210f5-5ecd-47da-9ba0-2a65400fcfd0",
   "metadata": {},
   "outputs": [
    {
     "data": {
      "text/plain": [
       "['TARGET',\n",
       " 'DAYS_BIRTH',\n",
       " 'NAME_INCOME_TYPE_Working',\n",
       " 'DAYS_LAST_PHONE_CHANGE',\n",
       " 'CODE_GENDER_M',\n",
       " 'DAYS_ID_PUBLISH']"
      ]
     },
     "execution_count": 108,
     "metadata": {},
     "output_type": "execute_result"
    }
   ],
   "source": [
    "top_5_positive.index.to_list()"
   ]
  },
  {
   "cell_type": "code",
   "execution_count": 109,
   "id": "2ec25328-ca9a-4250-a6d3-1b207df53e32",
   "metadata": {},
   "outputs": [
    {
     "data": {
      "text/plain": [
       "['EXT_SOURCE_2',\n",
       " 'EXT_SOURCE_3',\n",
       " 'CODE_GENDER_F',\n",
       " 'REGION_POPULATION_RELATIVE',\n",
       " 'NAME_FAMILY_STATUS_Married']"
      ]
     },
     "execution_count": 109,
     "metadata": {},
     "output_type": "execute_result"
    }
   ],
   "source": [
    "top_5_negative.index.to_list()"
   ]
  },
  {
   "cell_type": "code",
   "execution_count": null,
   "id": "d6e981dd-cc68-41b7-83f1-db89b20e188b",
   "metadata": {},
   "outputs": [],
   "source": []
  },
  {
   "cell_type": "code",
   "execution_count": 110,
   "id": "4e65adc1-4fb2-4112-a6b7-07e7cc1b0dc4",
   "metadata": {},
   "outputs": [
    {
     "data": {
      "text/html": [
       "<div>\n",
       "<style scoped>\n",
       "    .dataframe tbody tr th:only-of-type {\n",
       "        vertical-align: middle;\n",
       "    }\n",
       "\n",
       "    .dataframe tbody tr th {\n",
       "        vertical-align: top;\n",
       "    }\n",
       "\n",
       "    .dataframe thead th {\n",
       "        text-align: right;\n",
       "    }\n",
       "</style>\n",
       "<table border=\"1\" class=\"dataframe\">\n",
       "  <thead>\n",
       "    <tr style=\"text-align: right;\">\n",
       "      <th></th>\n",
       "      <th>TARGET</th>\n",
       "      <th>DAYS_BIRTH</th>\n",
       "      <th>NAME_INCOME_TYPE_Working</th>\n",
       "      <th>DAYS_LAST_PHONE_CHANGE</th>\n",
       "      <th>CODE_GENDER_M</th>\n",
       "      <th>DAYS_ID_PUBLISH</th>\n",
       "      <th>EXT_SOURCE_2</th>\n",
       "      <th>EXT_SOURCE_3</th>\n",
       "      <th>CODE_GENDER_F</th>\n",
       "      <th>REGION_POPULATION_RELATIVE</th>\n",
       "      <th>NAME_FAMILY_STATUS_Married</th>\n",
       "    </tr>\n",
       "  </thead>\n",
       "  <tbody>\n",
       "    <tr>\n",
       "      <th>0</th>\n",
       "      <td>1</td>\n",
       "      <td>-9461</td>\n",
       "      <td>1.0</td>\n",
       "      <td>-1134.0</td>\n",
       "      <td>1.0</td>\n",
       "      <td>-2120</td>\n",
       "      <td>0.262949</td>\n",
       "      <td>0.139376</td>\n",
       "      <td>0.0</td>\n",
       "      <td>0.018801</td>\n",
       "      <td>0.0</td>\n",
       "    </tr>\n",
       "    <tr>\n",
       "      <th>1</th>\n",
       "      <td>0</td>\n",
       "      <td>-16765</td>\n",
       "      <td>0.0</td>\n",
       "      <td>-828.0</td>\n",
       "      <td>0.0</td>\n",
       "      <td>-291</td>\n",
       "      <td>0.622246</td>\n",
       "      <td>0.535276</td>\n",
       "      <td>1.0</td>\n",
       "      <td>0.003541</td>\n",
       "      <td>1.0</td>\n",
       "    </tr>\n",
       "    <tr>\n",
       "      <th>2</th>\n",
       "      <td>0</td>\n",
       "      <td>-19046</td>\n",
       "      <td>1.0</td>\n",
       "      <td>-815.0</td>\n",
       "      <td>1.0</td>\n",
       "      <td>-2531</td>\n",
       "      <td>0.555912</td>\n",
       "      <td>0.729567</td>\n",
       "      <td>0.0</td>\n",
       "      <td>0.010032</td>\n",
       "      <td>0.0</td>\n",
       "    </tr>\n",
       "    <tr>\n",
       "      <th>3</th>\n",
       "      <td>0</td>\n",
       "      <td>-19005</td>\n",
       "      <td>1.0</td>\n",
       "      <td>-617.0</td>\n",
       "      <td>0.0</td>\n",
       "      <td>-2437</td>\n",
       "      <td>0.650442</td>\n",
       "      <td>0.535276</td>\n",
       "      <td>1.0</td>\n",
       "      <td>0.008019</td>\n",
       "      <td>0.0</td>\n",
       "    </tr>\n",
       "    <tr>\n",
       "      <th>4</th>\n",
       "      <td>0</td>\n",
       "      <td>-19932</td>\n",
       "      <td>1.0</td>\n",
       "      <td>-1106.0</td>\n",
       "      <td>1.0</td>\n",
       "      <td>-3458</td>\n",
       "      <td>0.322738</td>\n",
       "      <td>0.535276</td>\n",
       "      <td>0.0</td>\n",
       "      <td>0.028663</td>\n",
       "      <td>0.0</td>\n",
       "    </tr>\n",
       "  </tbody>\n",
       "</table>\n",
       "</div>"
      ],
      "text/plain": [
       "   TARGET  DAYS_BIRTH  NAME_INCOME_TYPE_Working  DAYS_LAST_PHONE_CHANGE  \\\n",
       "0       1       -9461                       1.0                 -1134.0   \n",
       "1       0      -16765                       0.0                  -828.0   \n",
       "2       0      -19046                       1.0                  -815.0   \n",
       "3       0      -19005                       1.0                  -617.0   \n",
       "4       0      -19932                       1.0                 -1106.0   \n",
       "\n",
       "   CODE_GENDER_M  DAYS_ID_PUBLISH  EXT_SOURCE_2  EXT_SOURCE_3  CODE_GENDER_F  \\\n",
       "0            1.0            -2120      0.262949      0.139376            0.0   \n",
       "1            0.0             -291      0.622246      0.535276            1.0   \n",
       "2            1.0            -2531      0.555912      0.729567            0.0   \n",
       "3            0.0            -2437      0.650442      0.535276            1.0   \n",
       "4            1.0            -3458      0.322738      0.535276            0.0   \n",
       "\n",
       "   REGION_POPULATION_RELATIVE  NAME_FAMILY_STATUS_Married  \n",
       "0                    0.018801                         0.0  \n",
       "1                    0.003541                         1.0  \n",
       "2                    0.010032                         0.0  \n",
       "3                    0.008019                         0.0  \n",
       "4                    0.028663                         0.0  "
      ]
     },
     "execution_count": 110,
     "metadata": {},
     "output_type": "execute_result"
    }
   ],
   "source": [
    "app_train_final = app_train_clean.copy()\n",
    "\n",
    "app_train_final = app_train_clean[top_5_positive.index.to_list() +top_5_negative.index.to_list()]\n",
    "\n",
    "app_train_final.head()"
   ]
  },
  {
   "cell_type": "code",
   "execution_count": null,
   "id": "e91ed290-a168-4c9b-8873-3a9d6de68c25",
   "metadata": {},
   "outputs": [],
   "source": []
  },
  {
   "cell_type": "code",
   "execution_count": 111,
   "id": "115a0928-b8e6-4ed8-91a4-5ddda7e189e8",
   "metadata": {},
   "outputs": [
    {
     "data": {
      "text/html": [
       "<div>\n",
       "<style scoped>\n",
       "    .dataframe tbody tr th:only-of-type {\n",
       "        vertical-align: middle;\n",
       "    }\n",
       "\n",
       "    .dataframe tbody tr th {\n",
       "        vertical-align: top;\n",
       "    }\n",
       "\n",
       "    .dataframe thead th {\n",
       "        text-align: right;\n",
       "    }\n",
       "</style>\n",
       "<table border=\"1\" class=\"dataframe\">\n",
       "  <thead>\n",
       "    <tr style=\"text-align: right;\">\n",
       "      <th></th>\n",
       "      <th>DAYS_BIRTH</th>\n",
       "      <th>NAME_INCOME_TYPE_Working</th>\n",
       "      <th>DAYS_LAST_PHONE_CHANGE</th>\n",
       "      <th>CODE_GENDER_M</th>\n",
       "      <th>DAYS_ID_PUBLISH</th>\n",
       "      <th>EXT_SOURCE_2</th>\n",
       "      <th>EXT_SOURCE_3</th>\n",
       "      <th>CODE_GENDER_F</th>\n",
       "      <th>REGION_POPULATION_RELATIVE</th>\n",
       "      <th>NAME_FAMILY_STATUS_Married</th>\n",
       "    </tr>\n",
       "  </thead>\n",
       "  <tbody>\n",
       "    <tr>\n",
       "      <th>0</th>\n",
       "      <td>-19241</td>\n",
       "      <td>1.0</td>\n",
       "      <td>-1740.0</td>\n",
       "      <td>0.0</td>\n",
       "      <td>-812</td>\n",
       "      <td>0.789654</td>\n",
       "      <td>0.159520</td>\n",
       "      <td>1.0</td>\n",
       "      <td>0.018850</td>\n",
       "      <td>1.0</td>\n",
       "    </tr>\n",
       "    <tr>\n",
       "      <th>1</th>\n",
       "      <td>-18064</td>\n",
       "      <td>1.0</td>\n",
       "      <td>0.0</td>\n",
       "      <td>1.0</td>\n",
       "      <td>-1623</td>\n",
       "      <td>0.291656</td>\n",
       "      <td>0.432962</td>\n",
       "      <td>0.0</td>\n",
       "      <td>0.035792</td>\n",
       "      <td>1.0</td>\n",
       "    </tr>\n",
       "    <tr>\n",
       "      <th>2</th>\n",
       "      <td>-20038</td>\n",
       "      <td>1.0</td>\n",
       "      <td>-856.0</td>\n",
       "      <td>1.0</td>\n",
       "      <td>-3503</td>\n",
       "      <td>0.699787</td>\n",
       "      <td>0.610991</td>\n",
       "      <td>0.0</td>\n",
       "      <td>0.019101</td>\n",
       "      <td>1.0</td>\n",
       "    </tr>\n",
       "    <tr>\n",
       "      <th>3</th>\n",
       "      <td>-13976</td>\n",
       "      <td>1.0</td>\n",
       "      <td>-1805.0</td>\n",
       "      <td>0.0</td>\n",
       "      <td>-4208</td>\n",
       "      <td>0.509677</td>\n",
       "      <td>0.612704</td>\n",
       "      <td>1.0</td>\n",
       "      <td>0.026392</td>\n",
       "      <td>1.0</td>\n",
       "    </tr>\n",
       "    <tr>\n",
       "      <th>4</th>\n",
       "      <td>-13040</td>\n",
       "      <td>1.0</td>\n",
       "      <td>-821.0</td>\n",
       "      <td>1.0</td>\n",
       "      <td>-4262</td>\n",
       "      <td>0.425687</td>\n",
       "      <td>0.519097</td>\n",
       "      <td>0.0</td>\n",
       "      <td>0.010032</td>\n",
       "      <td>1.0</td>\n",
       "    </tr>\n",
       "  </tbody>\n",
       "</table>\n",
       "</div>"
      ],
      "text/plain": [
       "   DAYS_BIRTH  NAME_INCOME_TYPE_Working  DAYS_LAST_PHONE_CHANGE  \\\n",
       "0      -19241                       1.0                 -1740.0   \n",
       "1      -18064                       1.0                     0.0   \n",
       "2      -20038                       1.0                  -856.0   \n",
       "3      -13976                       1.0                 -1805.0   \n",
       "4      -13040                       1.0                  -821.0   \n",
       "\n",
       "   CODE_GENDER_M  DAYS_ID_PUBLISH  EXT_SOURCE_2  EXT_SOURCE_3  CODE_GENDER_F  \\\n",
       "0            0.0             -812      0.789654      0.159520            1.0   \n",
       "1            1.0            -1623      0.291656      0.432962            0.0   \n",
       "2            1.0            -3503      0.699787      0.610991            0.0   \n",
       "3            0.0            -4208      0.509677      0.612704            1.0   \n",
       "4            1.0            -4262      0.425687      0.519097            0.0   \n",
       "\n",
       "   REGION_POPULATION_RELATIVE  NAME_FAMILY_STATUS_Married  \n",
       "0                    0.018850                         1.0  \n",
       "1                    0.035792                         1.0  \n",
       "2                    0.019101                         1.0  \n",
       "3                    0.026392                         1.0  \n",
       "4                    0.010032                         1.0  "
      ]
     },
     "execution_count": 111,
     "metadata": {},
     "output_type": "execute_result"
    }
   ],
   "source": [
    "app_test_final = app_test_clean.copy()\n",
    "app_test_final = app_test_clean[['DAYS_BIRTH',\n",
    " 'NAME_INCOME_TYPE_Working',\n",
    " 'DAYS_LAST_PHONE_CHANGE',\n",
    " 'CODE_GENDER_M',\n",
    " 'DAYS_ID_PUBLISH','EXT_SOURCE_2',\n",
    " 'EXT_SOURCE_3',\n",
    " 'CODE_GENDER_F',\n",
    " 'REGION_POPULATION_RELATIVE',\n",
    " 'NAME_FAMILY_STATUS_Married' ]]\n",
    "\n",
    "\n",
    "app_test_final.head()\n"
   ]
  },
  {
   "cell_type": "code",
   "execution_count": null,
   "id": "47d0bd99-f8b0-435e-973f-4599c87c3602",
   "metadata": {},
   "outputs": [],
   "source": []
  },
  {
   "cell_type": "markdown",
   "id": "1a5c5d18-20d6-4e90-8633-2c5ead03c445",
   "metadata": {},
   "source": [
    "## Correlation Heatmap"
   ]
  },
  {
   "cell_type": "code",
   "execution_count": 113,
   "id": "2f48321c-f068-4a9c-aa18-be5c029b91e8",
   "metadata": {},
   "outputs": [
    {
     "data": {
      "image/png": "[encoded data removed]",
      "text/plain": [
       "<Figure size 1000x600 with 2 Axes>"
      ]
     },
     "metadata": {},
     "output_type": "display_data"
    }
   ],
   "source": [
    "plt.figure(figsize=(10,6))\n",
    "sns.heatmap(app_train_final.corr(), annot=True)\n",
    "plt.title('Heatmap of the Top 5 Positive & Negative predictors for TARGET without Nulls')\n",
    "plt.show()"
   ]
  },
  {
   "cell_type": "code",
   "execution_count": 114,
   "id": "dc65c910-ef24-4cb0-beaf-70f7e6b2b219",
   "metadata": {},
   "outputs": [
    {
     "data": {
      "text/plain": [
       "Index(['TARGET', 'DAYS_BIRTH', 'NAME_INCOME_TYPE_Working',\n",
       "       'DAYS_LAST_PHONE_CHANGE', 'CODE_GENDER_M', 'DAYS_ID_PUBLISH',\n",
       "       'EXT_SOURCE_2', 'EXT_SOURCE_3', 'CODE_GENDER_F',\n",
       "       'REGION_POPULATION_RELATIVE', 'NAME_FAMILY_STATUS_Married'],\n",
       "      dtype='object')"
      ]
     },
     "execution_count": 114,
     "metadata": {},
     "output_type": "execute_result"
    }
   ],
   "source": [
    "app_train_final.columns"
   ]
  },
  {
   "cell_type": "code",
   "execution_count": 115,
   "id": "614af3aa-f748-445e-97a0-b3fb9049b3f9",
   "metadata": {},
   "outputs": [
    {
     "data": {
      "text/plain": [
       "TARGET                        0\n",
       "DAYS_BIRTH                    0\n",
       "NAME_INCOME_TYPE_Working      0\n",
       "DAYS_LAST_PHONE_CHANGE        0\n",
       "CODE_GENDER_M                 0\n",
       "DAYS_ID_PUBLISH               0\n",
       "EXT_SOURCE_2                  0\n",
       "EXT_SOURCE_3                  0\n",
       "CODE_GENDER_F                 0\n",
       "REGION_POPULATION_RELATIVE    0\n",
       "NAME_FAMILY_STATUS_Married    0\n",
       "dtype: int64"
      ]
     },
     "execution_count": 115,
     "metadata": {},
     "output_type": "execute_result"
    }
   ],
   "source": [
    "app_train_final.isnull().sum()"
   ]
  },
  {
   "cell_type": "code",
   "execution_count": 116,
   "id": "36d8904b-03bb-4c01-b592-659fa1c0b343",
   "metadata": {},
   "outputs": [
    {
     "data": {
      "text/plain": [
       "DAYS_BIRTH                    0\n",
       "NAME_INCOME_TYPE_Working      0\n",
       "DAYS_LAST_PHONE_CHANGE        0\n",
       "CODE_GENDER_M                 0\n",
       "DAYS_ID_PUBLISH               0\n",
       "EXT_SOURCE_2                  0\n",
       "EXT_SOURCE_3                  0\n",
       "CODE_GENDER_F                 0\n",
       "REGION_POPULATION_RELATIVE    0\n",
       "NAME_FAMILY_STATUS_Married    0\n",
       "dtype: int64"
      ]
     },
     "execution_count": 116,
     "metadata": {},
     "output_type": "execute_result"
    }
   ],
   "source": [
    "app_test_final.isnull().sum()"
   ]
  },
  {
   "cell_type": "code",
   "execution_count": null,
   "id": "78596a1f-ef59-428f-af57-86d882bcd62d",
   "metadata": {},
   "outputs": [],
   "source": []
  },
  {
   "cell_type": "code",
   "execution_count": null,
   "id": "c0f28258-7abd-4e29-85f8-18447d5f64b5",
   "metadata": {},
   "outputs": [],
   "source": []
  },
  {
   "cell_type": "markdown",
   "id": "04d7cd6e-b74a-409b-9038-f5f203e2fbe3",
   "metadata": {},
   "source": [
    "<br> There are several predictors in this model. </br>\n",
    "\n",
    "Only the top 5 positive and negative will be used in the logistic regression model"
   ]
  },
  {
   "cell_type": "markdown",
   "id": "9ffcf5c2-90f2-49a6-bb70-5c12a152dae1",
   "metadata": {},
   "source": [
    "# Preliminary Logistic Model"
   ]
  },
  {
   "cell_type": "code",
   "execution_count": 119,
   "id": "44b26a27-c96f-4f7e-a417-0ec4bf7b6aca",
   "metadata": {},
   "outputs": [],
   "source": [
    "from sklearn.linear_model import LogisticRegression\n",
    "from sklearn.metrics import accuracy_score, roc_auc_score, confusion_matrix, classification_report\n",
    "import seaborn as sns\n",
    "import matplotlib.pyplot as plt\n",
    "\n",
    "\n",
    "#Defining the training variables:\n",
    "X_train = app_train_final.drop(columns=['TARGET'])  # Train features\n",
    "y_train = app_train_final['TARGET']  # Train target\n",
    "\n",
    "X_test = app_test_final\n",
    "\n",
    "#Training the model\n",
    "log_reg = LogisticRegression(max_iter=10000, random_state=2)\n",
    "log_reg.fit(X_train, y_train)\n",
    "\n",
    "# Predicting on the train set\n",
    "y_train_preds = log_reg.predict(X_train) \n",
    "y_train_preds_proba = log_reg.predict_proba(X_train)[:, 1]  \n",
    "\n",
    "# Predicting on the test set\n",
    "y_test_preds_proba = log_reg.predict_proba(X_test)[:, 1] \n",
    "\n",
    "\n",
    "\n"
   ]
  },
  {
   "cell_type": "code",
   "execution_count": 120,
   "id": "62b7b2c5-382e-48b3-aefc-ae8d0e3d2123",
   "metadata": {},
   "outputs": [
    {
     "data": {
      "text/plain": [
       "array([[ 1.97664638e-05,  2.31183632e-01,  8.05160754e-05,\n",
       "         3.23073390e-01,  5.08881137e-05, -2.42698154e+00,\n",
       "        -2.47713613e+00, -2.27297267e-02, -3.15521447e-02,\n",
       "        -1.48504705e-01]])"
      ]
     },
     "execution_count": 120,
     "metadata": {},
     "output_type": "execute_result"
    }
   ],
   "source": [
    "# Coefficients of the logistic model in log odds\n",
    "log_reg.coef_"
   ]
  },
  {
   "cell_type": "code",
   "execution_count": 121,
   "id": "3fe7cedc-7fc7-4b0d-a881-4055e13613ef",
   "metadata": {},
   "outputs": [
    {
     "data": {
      "text/plain": [
       "array([0.29816342])"
      ]
     },
     "execution_count": 121,
     "metadata": {},
     "output_type": "execute_result"
    }
   ],
   "source": [
    "# Intercept of the logistic model\n",
    "log_reg.intercept_"
   ]
  },
  {
   "cell_type": "code",
   "execution_count": 122,
   "id": "2d1e6c84-34c3-44b7-af08-bbf89d351f0a",
   "metadata": {},
   "outputs": [],
   "source": [
    "accuracy = accuracy_score(y_train, y_train_preds)\n",
    "roc_auc = roc_auc_score(y_train, y_train_preds_proba)\n",
    "conf_matrix = confusion_matrix(y_train, y_train_preds)\n"
   ]
  },
  {
   "cell_type": "code",
   "execution_count": null,
   "id": "ecad131b-07c0-49d0-9695-201e287a2752",
   "metadata": {},
   "outputs": [],
   "source": []
  },
  {
   "cell_type": "markdown",
   "id": "8b8fd8f3-4c50-4f42-8d10-6b3c048707e0",
   "metadata": {},
   "source": [
    "## Preliminary Logistic Metrics and Scoring"
   ]
  },
  {
   "cell_type": "code",
   "execution_count": 124,
   "id": "e67db1c3-4e0b-464c-bc40-da3c884937cb",
   "metadata": {},
   "outputs": [
    {
     "name": "stdout",
     "output_type": "stream",
     "text": [
      "0.9191931345545362\n"
     ]
    }
   ],
   "source": [
    "print(accuracy_score(y_train, y_train_preds)) #since we dont have TARGET on the test dataset, the train dataset is used for accuracy"
   ]
  },
  {
   "cell_type": "code",
   "execution_count": 125,
   "id": "feb0b00b-3ae1-48c2-871d-816bd6fe6307",
   "metadata": {},
   "outputs": [
    {
     "name": "stdout",
     "output_type": "stream",
     "text": [
      "0.7126630576819053\n"
     ]
    }
   ],
   "source": [
    "print(roc_auc_score(y_train, y_train_preds_proba))"
   ]
  },
  {
   "cell_type": "code",
   "execution_count": 126,
   "id": "f4aa2aff-47b5-4472-855c-b1b1e94abfb9",
   "metadata": {},
   "outputs": [
    {
     "name": "stdout",
     "output_type": "stream",
     "text": [
      "              precision    recall  f1-score   support\n",
      "\n",
      "           0       0.92      1.00      0.96    282686\n",
      "           1       0.34      0.00      0.00     24825\n",
      "\n",
      "    accuracy                           0.92    307511\n",
      "   macro avg       0.63      0.50      0.48    307511\n",
      "weighted avg       0.87      0.92      0.88    307511\n",
      "\n"
     ]
    }
   ],
   "source": [
    "print(classification_report(y_train, y_train_preds))"
   ]
  },
  {
   "cell_type": "code",
   "execution_count": 127,
   "id": "07da0d39-3aec-4053-9d19-63bdc75c5bce",
   "metadata": {},
   "outputs": [
    {
     "name": "stdout",
     "output_type": "stream",
     "text": [
      "[[282637     49]\n",
      " [ 24800     25]]\n"
     ]
    }
   ],
   "source": [
    "print(confusion_matrix(y_train, y_train_preds))"
   ]
  },
  {
   "cell_type": "code",
   "execution_count": 128,
   "id": "c91a30df-480f-472d-a2bb-fba70183b4a0",
   "metadata": {},
   "outputs": [
    {
     "data": {
      "image/png": "[encoded data removed]",
      "text/plain": [
       "<Figure size 640x480 with 1 Axes>"
      ]
     },
     "metadata": {},
     "output_type": "display_data"
    }
   ],
   "source": [
    "#Creating an ROC curve\n",
    "from sklearn.metrics import roc_curve, auc\n",
    "fpr, tpr, thresholds = roc_curve(y_train, y_train_preds_proba)\n",
    "roc_auc = auc(fpr, tpr)\n",
    "\n",
    "plt.plot(fpr, tpr)\n",
    "plt.plot([0,1], [0,1])\n",
    "plt.xlabel('False positive Rate')\n",
    "plt.ylabel('True Positive Rate')\n",
    "plt.title('ROC curve')\n",
    "plt.show()"
   ]
  },
  {
   "cell_type": "code",
   "execution_count": 129,
   "id": "9b6d952e-3a4f-4de2-b9a8-687e7ac145d7",
   "metadata": {},
   "outputs": [
    {
     "data": {
      "text/plain": [
       "0.42"
      ]
     },
     "execution_count": 129,
     "metadata": {},
     "output_type": "execute_result"
    }
   ],
   "source": [
    "# Improvement vs randomly guessing\n",
    "ROC = 0.71\n",
    "guess = 0.50\n",
    "\n",
    "round((ROC - guess)/guess,2)\n"
   ]
  },
  {
   "cell_type": "markdown",
   "id": "61e35018-34f8-4bcf-85bd-791cc5a58354",
   "metadata": {},
   "source": [
    "The ROC is 0.72. \n",
    "This means compared to randomly guessing the model performs 42% better\n"
   ]
  },
  {
   "cell_type": "markdown",
   "id": "c2811412-4178-4833-b5dd-419bbc4e4352",
   "metadata": {},
   "source": [
    "# Summary and Overall Insights with Ethical Considerations\n"
   ]
  },
  {
   "cell_type": "code",
   "execution_count": 132,
   "id": "3a65a3bf-17a9-4604-9d3b-cc7184dd121f",
   "metadata": {},
   "outputs": [
    {
     "name": "stdout",
     "output_type": "stream",
     "text": [
      "The Top 3 Positive predictors of Default are: \n",
      "\n",
      "DAYS_BIRTH                  0.078239\n",
      "NAME_INCOME_TYPE_Working    0.057481\n",
      "DAYS_LAST_PHONE_CHANGE      0.054964\n",
      "Name: TARGET, dtype: float64\n"
     ]
    }
   ],
   "source": [
    "print('The Top 3 Positive predictors of Default are: \\n')\n",
    "\n",
    "print(top_5_positive[1:4])"
   ]
  },
  {
   "cell_type": "code",
   "execution_count": 133,
   "id": "ce43be13-2e62-40f2-a287-d92a8921a528",
   "metadata": {},
   "outputs": [
    {
     "name": "stdout",
     "output_type": "stream",
     "text": [
      "The Top 3 Negative predictors of Default are: \n",
      "\n",
      "EXT_SOURCE_2    -0.160295\n",
      "EXT_SOURCE_3    -0.135996\n",
      "CODE_GENDER_F   -0.054704\n",
      "Name: TARGET, dtype: float64\n"
     ]
    }
   ],
   "source": [
    "print('The Top 3 Negative predictors of Default are: \\n')\n",
    "\n",
    "print(top_5_negative[0:3])\n"
   ]
  },
  {
   "cell_type": "markdown",
   "id": "b5746c74-1009-4cfe-87fb-bfe4cb830868",
   "metadata": {},
   "source": [
    "Overall there are several coefficients responsible for affecting TARGET.\n",
    "\n",
    "Positive Correlations with TARGET (Default):\n",
    "1. Days_birth: Older individuals are more likely to default. This may due to approaching retirement (or being retired), having reduced income, or lifestyle changes\n",
    "2. Name_Income_Type_Working: Clients who are employees rather than business owners are more likely to default. This may be due to less disposable income compared to owning a successfull business which also has more leverage to capital\n",
    "3. DAYS_Last_Phone_Change:  Clients that have recently changed their phone numbers are at a higher default risk. This could be due to financial instability by trying to avoid creditors. It could also indiciate trying to attempt fraud\n",
    "\n",
    "If we decline or approve clients based on such factors, it could be lead to having a very niche clientele while also being unfair to the older or working demographics and even those with recent phone number changes.\n",
    "In the meantime, it could benefit the clients that are younger and are business owners. This could be contradictory to Home Credits goal of assisting clients with non sufficient credit history as business owners tend to have decent credit due to having financing such as a line of credit or a business loan.\n",
    "\n",
    "Negative Correlations with TARGET (Default):\n",
    "1. EXT SOURCE 2 & EXT SOURCE 3: Having a decent credit score is likely to decrease the chance of default. This makes sense as its a solid predictor of credit worthiness. If a client can pay their bills, they are likely to repay their loans.\n",
    "2. CODE GENDER F: It appears that females are less likely to default than males. This could be due to females having different spending habits in general (on average)\n",
    "\n",
    "Approving such clients would benefit those who have strong credit and are female. This would be unfair to the clients who are working towards getting better credit and also to males. Gender should not be a significant factor in asssessing an application since it is discrimination and is unfair.\n",
    "\n",
    "Data Summary:\n",
    "The Null values were cleaned. Null values exceeding 50% had their columns removed whereas Null values that were < 50% of the entire dataset were imputed with the median.\n",
    "Secondly, the categorical columns were converted using One Hot Encoder. Outliers were also imputed with the median rather than removing them entirely. This is because Kaggle will not accept submissions that have the rows deleted in the test set.\n",
    "\n",
    "\n",
    "Logistic Model:                                          \n",
    "The model itself has a high accuracy and a good ROC score. But the confusion matrix showed that it has low True positives and False positives.\n",
    "This model appears to be more beneficial to detecting 0 for the Target variable (clients who dont have default issues).\n",
    "During the final modelling assignment, the model will need to be improved to detect clients who have a higher default rate which is a Target Variable of 1. Perhaps we can use scaling, or choose other predictors. \n"
   ]
  },
  {
   "cell_type": "code",
   "execution_count": null,
   "id": "4f4765de-0db3-49d7-88c5-e5e176aa2fe7",
   "metadata": {},
   "outputs": [],
   "source": []
  },
  {
   "cell_type": "code",
   "execution_count": null,
   "id": "fd4bd642-857a-4fe4-a627-26a3d4dbd310",
   "metadata": {},
   "outputs": [],
   "source": []
  }
 ],
 "metadata": {
  "kernelspec": {
   "display_name": "Python 3 (ipykernel)",
   "language": "python",
   "name": "python3"
  },
  "language_info": {
   "codemirror_mode": {
    "name": "ipython",
    "version": 3
   },
   "file_extension": ".py",
   "mimetype": "text/x-python",
   "name": "python",
   "nbconvert_exporter": "python",
   "pygments_lexer": "ipython3",
   "version": "3.12.6"
  }
 },
 "nbformat": 4,
 "nbformat_minor": 5
}
